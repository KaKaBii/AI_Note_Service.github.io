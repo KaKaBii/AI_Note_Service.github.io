{
 "cells": [
  {
   "cell_type": "markdown",
   "id": "d4ec79a4",
   "metadata": {
    "tags": []
   },
   "source": [
    "### Install Flask package using pip\n",
    "The exclamation mark '!' is used to execute Linux commands. \n",
    "If the Flask package is installed, you can ignore the cell below."
   ]
  },
  {
   "cell_type": "code",
   "execution_count": 503,
   "id": "8b7c3e6b",
   "metadata": {
    "tags": []
   },
   "outputs": [],
   "source": [
    "#!pip3 install flask"
   ]
  },
  {
   "cell_type": "code",
   "execution_count": 504,
   "id": "d5c0f275",
   "metadata": {},
   "outputs": [],
   "source": [
    "#!pip install --upgrade flask\n"
   ]
  },
  {
   "cell_type": "code",
   "execution_count": 505,
   "id": "93343030",
   "metadata": {},
   "outputs": [],
   "source": [
    "#!pip install watchdog"
   ]
  },
  {
   "cell_type": "code",
   "execution_count": 506,
   "id": "3bd9c2ad",
   "metadata": {
    "tags": []
   },
   "outputs": [],
   "source": [
    "import os\n",
    "import sqlite3\n",
    "from datetime import datetime\n",
    "from livereload import Server\n",
    "from flask import Flask, render_template, request, jsonify"
   ]
  },
  {
   "cell_type": "code",
   "execution_count": 507,
   "id": "5f4d88b7",
   "metadata": {
    "tags": []
   },
   "outputs": [],
   "source": [
    "app = Flask(__name__)"
   ]
  },
  {
   "cell_type": "code",
   "execution_count": 508,
   "id": "59c643e0",
   "metadata": {},
   "outputs": [],
   "source": [
    "# 資料庫路徑\n",
    "DATABASE_FOLDER = os.path.join(app.root_path, 'instance')\n"
   ]
  },
  {
   "cell_type": "code",
   "execution_count": 509,
   "id": "eab6df28",
   "metadata": {},
   "outputs": [],
   "source": [
    "# 確保所有需要的文件夾存在\n",
    "for folder in [DATABASE_FOLDER]:\n",
    "    if not os.path.exists(folder):\n",
    "        os.makedirs(folder)"
   ]
  },
  {
   "cell_type": "code",
   "execution_count": 510,
   "id": "9b75f00d",
   "metadata": {},
   "outputs": [],
   "source": [
    "DATABASE = os.path.join(DATABASE_FOLDER, 'database.db')"
   ]
  },
  {
   "cell_type": "code",
   "execution_count": 511,
   "id": "32ad531e",
   "metadata": {
    "tags": []
   },
   "outputs": [],
   "source": [
    "# 定義根目錄\n",
    "@app.route('/')\n",
    "def index():\n",
    "    return render_template('index.html')"
   ]
  },
  {
   "cell_type": "code",
   "execution_count": 512,
   "id": "9fdb72bb",
   "metadata": {},
   "outputs": [],
   "source": [
    "# 定義分類目錄入口\n",
    "@app.route('/classify')\n",
    "def classify():\n",
    "    return render_template('class.html')"
   ]
  },
  {
   "cell_type": "code",
   "execution_count": 513,
   "id": "da4a7bda",
   "metadata": {},
   "outputs": [],
   "source": [
    "#定義身體頁面\n",
    "@app.route('/body')\n",
    "def bodyPage():\n",
    "   return render_template('classTemplate.html', title = \"BODY\")"
   ]
  },
  {
   "cell_type": "code",
   "execution_count": 514,
   "id": "95f06347",
   "metadata": {},
   "outputs": [],
   "source": [
    "#定義心靈頁面\n",
    "@app.route('/psycho')\n",
    "def psychoPage():\n",
    "   return render_template('classTemplate.html', title = \"PSYCHO\")"
   ]
  },
  {
   "cell_type": "code",
   "execution_count": 515,
   "id": "9cd19714",
   "metadata": {},
   "outputs": [],
   "source": [
    "#定義社會頁面\n",
    "@app.route('/social')\n",
    "def socialPage():\n",
    "   return render_template('classTemplate.html', title = \"SOCIAL\")"
   ]
  },
  {
   "cell_type": "code",
   "execution_count": 516,
   "id": "807a9b63",
   "metadata": {},
   "outputs": [],
   "source": [
    "#定義特殊頁面\n",
    "@app.route('/special')\n",
    "def specialPage():\n",
    "   return render_template('classTemplate.html', title = \"SPECIAL\")"
   ]
  },
  {
   "cell_type": "code",
   "execution_count": 517,
   "id": "3b5d2ce3",
   "metadata": {},
   "outputs": [],
   "source": [
    "#定義其他頁面\n",
    "@app.route('/extra')\n",
    "def extraPage():\n",
    "   return render_template('classTemplate.html', title = \"EXTRA\")"
   ]
  },
  {
   "cell_type": "code",
   "execution_count": 518,
   "id": "3e5b78ff",
   "metadata": {},
   "outputs": [],
   "source": [
    "# 查詢姓名列表\n",
    "@app.route('/fetchNameList', methods=['GET']) \n",
    "def fetchNameList():\n",
    "    try:\n",
    "        # 使用 with 語句管理資料庫連線\n",
    "        with sqlite3.connect(DATABASE) as conn:\n",
    "            cursor = conn.cursor()\n",
    "            cursor.execute(\"SELECT name FROM nameList\")  # 假設表格名稱為 'nameList'，字段名稱為 'name'\n",
    "            names = [row[0] for row in cursor.fetchall()]\n",
    "        return jsonify(names)\n",
    "\n",
    "    except Exception as e:\n",
    "        return jsonify({'error': str(e)}), 500\n"
   ]
  },
  {
   "cell_type": "code",
   "execution_count": 519,
   "id": "4e247031",
   "metadata": {},
   "outputs": [],
   "source": [
    "# 新增姓名到資料庫\n",
    "@app.route('/addName', methods=['POST'])\n",
    "def addName():\n",
    "    try:\n",
    "        data = request.get_json()\n",
    "        new_name = data.get('name')\n",
    "        if not new_name:\n",
    "            return jsonify({'error': 'No name provided'}), 400\n",
    "        \n",
    "        conn = sqlite3.connect(DATABASE)\n",
    "        cursor = conn.cursor()\n",
    "        cursor.execute(\"INSERT INTO nameList (name) VALUES (?)\", (new_name,))\n",
    "        conn.commit()\n",
    "        conn.close()\n",
    "        return jsonify({'success': True}), 200\n",
    "    except Exception as e:\n",
    "        return jsonify({'error': str(e)}), 500"
   ]
  },
  {
   "cell_type": "code",
   "execution_count": null,
   "metadata": {},
   "outputs": [],
   "source": [
    "# 查詢指定人名的逐字稿\n",
    "@app.route('/fetchTranscripts', methods=['GET'])\n",
    "def fetchTranscripts():\n",
    "    person = request.args.get('person')  # 從請求中獲取人名參數\n",
    "    if not person:\n",
    "        return jsonify({'error': 'No person provided'}), 400\n",
    "\n",
    "    try:\n",
    "        conn = sqlite3.connect(DATABASE)\n",
    "        cursor = conn.cursor()\n",
    "        # 根據名稱查詢逐字稿\n",
    "        cursor.execute(\"SELECT content, timestamp FROM transcripts WHERE name = ? ORDER BY timestamp DESC\", (person,))\n",
    "        rows = cursor.fetchall()\n",
    "        transcripts = [{'content': row[0], 'timestamp': row[1]} for row in rows]\n",
    "        conn.close()\n",
    "        app.logger.info(f'Transcripts fetched for {person}: {transcripts}')\n",
    "\n",
    "        return jsonify(transcripts)\n",
    "\n",
    "    except Exception as e:\n",
    "        return jsonify({'error': str(e)}), 500"
   ]
  },
  {
   "cell_type": "code",
   "execution_count": 521,
   "id": "ea38da53",
   "metadata": {},
   "outputs": [],
   "source": [
    "# 上傳指定人名的逐字稿\n",
    "@app.route('/uploadTranscript', methods=['POST'])\n",
    "def uploadTranscript():\n",
    "    data = request.get_json()\n",
    "    name = data.get('name')\n",
    "    content = data.get('content')\n",
    "    timestamp = datetime.now().strftime('%Y-%m-%d %H:%M:%S')\n",
    "\n",
    "    if not name or not content:\n",
    "        app.logger.error('Name or content is missing in the request')\n",
    "        return jsonify({'error': 'Name or content is missing'}), 400\n",
    "\n",
    "    try:\n",
    "        conn = sqlite3.connect(DATABASE)\n",
    "        cursor = conn.cursor()\n",
    "        cursor.execute(\"INSERT INTO transcripts (name, content, timestamp) VALUES (?, ?, ?)\", (name, content, timestamp))\n",
    "        conn.commit()\n",
    "        conn.close()\n",
    "        app.logger.info(f'Transcript uploaded for {name} at {timestamp}')\n",
    "        return jsonify({'message': 'Transcript uploaded successfully'}), 200\n",
    "    except Exception as e:\n",
    "        app.logger.error(f'Error uploading transcript for {name}: {e}')\n",
    "        return jsonify({'error': str(e)}), 500"
   ]
  },
  {
   "cell_type": "code",
   "execution_count": null,
   "id": "6c054858",
   "metadata": {
    "tags": []
   },
   "outputs": [
    {
     "name": "stdout",
     "output_type": "stream",
     "text": [
      " * Serving Flask app '__main__'\n",
      " * Debug mode: off\n"
     ]
    },
    {
     "name": "stderr",
     "output_type": "stream",
     "text": [
      "WARNING: This is a development server. Do not use it in a production deployment. Use a production WSGI server instead.\n",
      " * Running on all addresses (0.0.0.0)\n",
      " * Running on http://127.0.0.1:5000\n",
      " * Running on http://172.16.0.18:5000\n",
      "Press CTRL+C to quit\n",
      "127.0.0.1 - - [27/Nov/2024 20:44:09] \"GET / HTTP/1.1\" 200 -\n",
      "127.0.0.1 - - [27/Nov/2024 20:44:09] \"GET /static/images/profile/01.png HTTP/1.1\" 304 -\n",
      "127.0.0.1 - - [27/Nov/2024 20:44:09] \"GET /static/css/style.css HTTP/1.1\" 304 -\n",
      "127.0.0.1 - - [27/Nov/2024 20:44:09] \"GET /static/js/index.js HTTP/1.1\" 200 -\n",
      "127.0.0.1 - - [27/Nov/2024 20:44:10] \"GET /fetchTranscripts?person=張偉 HTTP/1.1\" 200 -\n",
      "127.0.0.1 - - [27/Nov/2024 20:44:10] \"GET / HTTP/1.1\" 200 -\n",
      "127.0.0.1 - - [27/Nov/2024 20:44:11] \"GET /fetchNameList HTTP/1.1\" 200 -\n",
      "127.0.0.1 - - [27/Nov/2024 20:44:13] \"GET /fetchNameList HTTP/1.1\" 200 -\n",
      "127.0.0.1 - - [27/Nov/2024 20:44:17] \"GET /fetchTranscripts?person=陳雅婷 HTTP/1.1\" 200 -\n",
      "127.0.0.1 - - [27/Nov/2024 20:44:18] \"GET /fetchTranscripts?person=王志豪 HTTP/1.1\" 200 -\n",
      "127.0.0.1 - - [27/Nov/2024 20:44:18] \"GET /fetchTranscripts?person=李麗芬 HTTP/1.1\" 200 -\n",
      "127.0.0.1 - - [27/Nov/2024 20:44:19] \"GET /fetchTranscripts?person=張偉 HTTP/1.1\" 200 -\n",
      "127.0.0.1 - - [27/Nov/2024 20:44:21] \"GET /fetchTranscripts?person=林嘉又 HTTP/1.1\" 200 -\n",
      "127.0.0.1 - - [27/Nov/2024 20:44:22] \"GET /fetchTranscripts?person=周添城 HTTP/1.1\" 200 -\n",
      "127.0.0.1 - - [27/Nov/2024 20:44:23] \"GET /fetchTranscripts?person=周添城 HTTP/1.1\" 200 -\n",
      "127.0.0.1 - - [27/Nov/2024 20:44:23] \"GET /fetchTranscripts?person=趙國強 HTTP/1.1\" 200 -\n",
      "127.0.0.1 - - [27/Nov/2024 20:44:25] \"GET /fetchTranscripts?person=周添城 HTTP/1.1\" 200 -\n",
      "127.0.0.1 - - [27/Nov/2024 20:44:27] \"GET /fetchTranscripts?person=林嘉又 HTTP/1.1\" 200 -\n",
      "127.0.0.1 - - [27/Nov/2024 20:44:27] \"GET /fetchTranscripts?person=周添城 HTTP/1.1\" 200 -\n",
      "127.0.0.1 - - [27/Nov/2024 20:44:28] \"GET /fetchTranscripts?person=趙國強 HTTP/1.1\" 200 -\n"
     ]
    }
   ],
   "source": [
    "if __name__ == '__main__':\n",
    "    app.run(host='0.0.0.0', port=5000)"
   ]
  }
 ],
 "metadata": {
  "kernelspec": {
   "display_name": "base",
   "language": "python",
   "name": "python3"
  },
  "language_info": {
   "codemirror_mode": {
    "name": "ipython",
    "version": 3
   },
   "file_extension": ".py",
   "mimetype": "text/x-python",
   "name": "python",
   "nbconvert_exporter": "python",
   "pygments_lexer": "ipython3",
   "version": "3.11.7"
  }
 },
 "nbformat": 4,
 "nbformat_minor": 5
}
