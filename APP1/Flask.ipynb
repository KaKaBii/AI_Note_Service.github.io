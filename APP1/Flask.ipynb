{
 "cells": [
  {
   "cell_type": "markdown",
   "id": "d4ec79a4",
   "metadata": {
    "tags": []
   },
   "source": [
    "### Install Flask package using pip\n",
    "The exclamation mark '!' is used to execute Linux commands. \n",
    "If the Flask package is installed, you can ignore the cell below."
   ]
  },
  {
   "cell_type": "code",
   "execution_count": null,
   "id": "8b7c3e6b",
   "metadata": {
    "tags": []
   },
   "outputs": [],
   "source": [
    "#!pip3 install flask"
   ]
  },
  {
   "cell_type": "code",
   "execution_count": null,
   "id": "3bd9c2ad",
   "metadata": {
    "tags": []
   },
   "outputs": [],
   "source": [
    "import os\n",
    "\n",
    "from datetime import datetime\n",
    "\n",
    "from flask import Flask, render_template, request, jsonify"
   ]
  },
  {
   "cell_type": "code",
   "execution_count": null,
   "id": "5f4d88b7",
   "metadata": {
    "tags": []
   },
   "outputs": [],
   "source": [
    "app = Flask(__name__)"
   ]
  },
  {
   "cell_type": "code",
   "execution_count": null,
   "id": "32ad531e",
   "metadata": {
    "tags": []
   },
   "outputs": [],
   "source": [
    "# 定義根目錄\n",
    "@app.route('/')\n",
    "def index():\n",
    "    return render_template('index.html')"
   ]
  },
  {
   "cell_type": "code",
   "execution_count": null,
   "id": "6c054858",
   "metadata": {
    "tags": []
   },
   "outputs": [],
   "source": [
    "if __name__ == '__main__':\n",
    "    app.run(host='0.0.0.0', port=5000)"
   ]
  }
 ],
 "metadata": {
  "kernelspec": {
   "display_name": "Python 3 (ipykernel)",
   "language": "python",
   "name": "python3"
  },
  "language_info": {
   "codemirror_mode": {
    "name": "ipython",
    "version": 3
   },
   "file_extension": ".py",
   "mimetype": "text/x-python",
   "name": "python",
   "nbconvert_exporter": "python",
   "pygments_lexer": "ipython3",
   "version": "3.8.10"
  }
 },
 "nbformat": 4,
 "nbformat_minor": 5
}
