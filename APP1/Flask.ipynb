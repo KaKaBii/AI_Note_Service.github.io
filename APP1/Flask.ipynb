{
 "cells": [
  {
   "cell_type": "markdown",
   "id": "d4ec79a4",
   "metadata": {
    "tags": []
   },
   "source": [
    "### Install Flask package using pip\n",
    "The exclamation mark '!' is used to execute Linux commands. \n",
    "If the Flask package is installed, you can ignore the cell below."
   ]
  },
  {
   "cell_type": "code",
   "execution_count": 335,
   "id": "8b7c3e6b",
   "metadata": {
    "tags": []
   },
   "outputs": [],
   "source": [
    "#!pip3 install flask"
   ]
  },
  {
   "cell_type": "code",
   "execution_count": 336,
   "id": "d5c0f275",
   "metadata": {},
   "outputs": [],
   "source": [
    "#!pip install --upgrade flask\n"
   ]
  },
  {
   "cell_type": "code",
   "execution_count": 337,
   "id": "93343030",
   "metadata": {},
   "outputs": [],
   "source": [
    "#!pip install watchdog"
   ]
  },
  {
   "cell_type": "markdown",
   "id": "37a4526e",
   "metadata": {},
   "source": []
  },
  {
   "cell_type": "code",
   "execution_count": 338,
   "id": "3bd9c2ad",
   "metadata": {
    "tags": []
   },
   "outputs": [],
   "source": [
    "import os\n",
    "import sqlite3\n",
    "from datetime import datetime\n",
    "from werkzeug.utils import secure_filename\n",
    "from flask import Flask, render_template, request, jsonify"
   ]
  },
  {
   "cell_type": "code",
   "execution_count": 339,
   "id": "5f4d88b7",
   "metadata": {
    "tags": []
   },
   "outputs": [],
   "source": [
    "app = Flask(__name__)"
   ]
  },
  {
   "cell_type": "code",
   "execution_count": 340,
   "id": "59c643e0",
   "metadata": {},
   "outputs": [],
   "source": [
    "# 資料庫路徑\n",
    "DATABASE_FOLDER = os.path.join(app.root_path, 'instance')\n",
    "UPLOAD_FOLDER = os.path.join(app.root_path, 'uploads')"
   ]
  },
  {
   "cell_type": "code",
   "execution_count": 341,
   "id": "f63375d2",
   "metadata": {},
   "outputs": [],
   "source": [
    "# 設定允許的檔案類型\n",
    "ALLOWED_EXTENSIONS = {'wav', 'mp3'}\n",
    "\n",
    "def allowed_file(filename):\n",
    "    return '.' in filename and filename.rsplit('.', 1)[1].lower() in ALLOWED_EXTENSIONS"
   ]
  },
  {
   "cell_type": "code",
   "execution_count": 342,
   "id": "eab6df28",
   "metadata": {},
   "outputs": [],
   "source": [
    "# 確保所有需要的文件夾存在\n",
    "for folder in [DATABASE_FOLDER]:\n",
    "    if not os.path.exists(folder):\n",
    "        os.makedirs(folder)"
   ]
  },
  {
   "cell_type": "code",
   "execution_count": 343,
   "id": "9b75f00d",
   "metadata": {},
   "outputs": [],
   "source": [
    "DATABASE = os.path.join(DATABASE_FOLDER, 'database.db')"
   ]
  },
  {
   "cell_type": "code",
   "execution_count": 344,
   "id": "32ad531e",
   "metadata": {
    "tags": []
   },
   "outputs": [],
   "source": [
    "# 定義根目錄\n",
    "@app.route('/')\n",
    "def index():\n",
    "    return render_template('index.html')"
   ]
  },
  {
   "cell_type": "code",
   "execution_count": 345,
   "id": "9fdb72bb",
   "metadata": {},
   "outputs": [],
   "source": [
    "# 定義分類目錄入口\n",
    "@app.route('/classify')\n",
    "def classify():\n",
    "    return render_template('class.html')"
   ]
  },
  {
   "cell_type": "code",
   "execution_count": 346,
   "id": "da4a7bda",
   "metadata": {},
   "outputs": [],
   "source": [
    "#定義身體頁面\n",
    "@app.route('/body')\n",
    "def bodyPage():\n",
    "   return render_template('classTemplate.html', title = \"BODY\")"
   ]
  },
  {
   "cell_type": "code",
   "execution_count": 347,
   "id": "95f06347",
   "metadata": {},
   "outputs": [],
   "source": [
    "#定義心靈頁面\n",
    "@app.route('/psycho')\n",
    "def psychoPage():\n",
    "   return render_template('classTemplate.html', title = \"PSYCHO\")"
   ]
  },
  {
   "cell_type": "code",
   "execution_count": 348,
   "id": "9cd19714",
   "metadata": {},
   "outputs": [],
   "source": [
    "#定義社會頁面\n",
    "@app.route('/social')\n",
    "def socialPage():\n",
    "   return render_template('classTemplate.html', title = \"SOCIAL\")"
   ]
  },
  {
   "cell_type": "code",
   "execution_count": 349,
   "id": "807a9b63",
   "metadata": {},
   "outputs": [],
   "source": [
    "#定義特殊頁面\n",
    "@app.route('/special')\n",
    "def specialPage():\n",
    "   return render_template('classTemplate.html', title = \"SPECIAL\")"
   ]
  },
  {
   "cell_type": "code",
   "execution_count": 350,
   "id": "3b5d2ce3",
   "metadata": {},
   "outputs": [],
   "source": [
    "#定義其他頁面\n",
    "@app.route('/extra')\n",
    "def extraPage():\n",
    "   return render_template('classTemplate.html', title = \"EXTRA\")"
   ]
  },
  {
   "cell_type": "code",
   "execution_count": 351,
   "id": "3e5b78ff",
   "metadata": {},
   "outputs": [],
   "source": [
    "# 查詢姓名列表\n",
    "@app.route('/fetchNameList', methods=['GET']) \n",
    "def fetchNameList():\n",
    "    try:\n",
    "        # 使用 with 語句管理資料庫連線\n",
    "        with sqlite3.connect(DATABASE) as conn:\n",
    "            cursor = conn.cursor()\n",
    "            cursor.execute(\"SELECT name FROM nameList\")  # 假設表格名稱為 'nameList'，字段名稱為 'name'\n",
    "            names = [row[0] for row in cursor.fetchall()]\n",
    "        return jsonify(names)\n",
    "\n",
    "    except Exception as e:\n",
    "        return jsonify({'error': str(e)}), 500\n"
   ]
  },
  {
   "cell_type": "code",
   "execution_count": 352,
   "id": "4e247031",
   "metadata": {},
   "outputs": [],
   "source": [
    "# 新增姓名到資料庫\n",
    "@app.route('/addName', methods=['POST'])\n",
    "def addName():\n",
    "    try:\n",
    "        data = request.get_json()\n",
    "        new_name = data.get('name')\n",
    "        if not new_name:\n",
    "            return jsonify({'error': 'No name provided'}), 400\n",
    "        \n",
    "        conn = sqlite3.connect(DATABASE)\n",
    "        cursor = conn.cursor()\n",
    "        cursor.execute(\"INSERT INTO nameList (name) VALUES (?)\", (new_name,))\n",
    "        conn.commit()\n",
    "        conn.close()\n",
    "        return jsonify({'success': True}), 200\n",
    "    except Exception as e:\n",
    "        return jsonify({'error': str(e)}), 500"
   ]
  },
  {
   "cell_type": "code",
   "execution_count": 353,
   "id": "09947e62",
   "metadata": {},
   "outputs": [],
   "source": [
    "# 查詢指定人名的逐字稿\n",
    "@app.route('/fetchTranscripts', methods=['GET'])\n",
    "def fetchTranscripts():\n",
    "    person = request.args.get('person')  # 從請求中獲取人名參數\n",
    "    if not person:\n",
    "        return jsonify({'error': 'No person provided'}), 400\n",
    "\n",
    "    try:\n",
    "        conn = sqlite3.connect(DATABASE)\n",
    "        cursor = conn.cursor()\n",
    "        # 根據名稱查詢逐字稿\n",
    "        cursor.execute(\"SELECT content, timestamp FROM transcripts WHERE name = ? ORDER BY timestamp DESC\", (person,))\n",
    "        rows = cursor.fetchall()\n",
    "        transcripts = [{'content': row[0], 'timestamp': row[1]} for row in rows]\n",
    "        conn.close()\n",
    "        app.logger.info(f'Transcripts fetched for {person}: {transcripts}')\n",
    "\n",
    "        return jsonify(transcripts)\n",
    "\n",
    "    except Exception as e:\n",
    "        return jsonify({'error': str(e)}), 500"
   ]
  },
  {
   "cell_type": "code",
   "execution_count": 354,
   "id": "ea38da53",
   "metadata": {},
   "outputs": [],
   "source": [
    "# 新增指定人名的逐字稿\n",
    "@app.route('/uploadTranscript', methods=['POST'])\n",
    "def uploadTranscript():\n",
    "    data = request.get_json()\n",
    "    name = data.get('name')\n",
    "    content = data.get('content')\n",
    "    timestamp = datetime.now().strftime('%Y-%m-%d %H:%M:%S')\n",
    "\n",
    "    if not name or not content:\n",
    "        app.logger.error('Name or content is missing in the request')\n",
    "        return jsonify({'error': 'Name or content is missing'}), 400\n",
    "\n",
    "    try:\n",
    "        conn = sqlite3.connect(DATABASE)\n",
    "        cursor = conn.cursor()\n",
    "        cursor.execute(\"INSERT INTO transcripts (name, content, timestamp) VALUES (?, ?, ?)\", (name, content, timestamp))\n",
    "        conn.commit()\n",
    "        conn.close()\n",
    "        app.logger.info(f'Transcript uploaded for {name} at {timestamp}')\n",
    "        return jsonify({'message': 'Transcript uploaded successfully'}), 200\n",
    "    except Exception as e:\n",
    "        app.logger.error(f'Error uploading transcript for {name}: {e}')\n",
    "        return jsonify({'error': str(e)}), 500"
   ]
  },
  {
   "cell_type": "code",
   "execution_count": 355,
   "id": "5075119e",
   "metadata": {},
   "outputs": [],
   "source": [
    "# 編輯指定人名的逐字稿\n",
    "@app.route('/editTranscript', methods=['POST'])\n",
    "def editTranscript():\n",
    "    data = request.get_json()\n",
    "    timestamp = data.get('timestamp')\n",
    "    new_content = data.get('newContent')\n",
    "\n",
    "    if not timestamp or not new_content:\n",
    "        app.logger.error('Timestamp or new content is missing in the request')\n",
    "        return jsonify({'error': 'Timestamp or new content is missing'}), 400\n",
    "\n",
    "    try:\n",
    "        conn = sqlite3.connect(DATABASE)\n",
    "        cursor = conn.cursor()\n",
    "        cursor.execute(\"UPDATE transcripts SET content = ? WHERE timestamp = ?\", (new_content, timestamp))\n",
    "        conn.commit()\n",
    "        conn.close()\n",
    "        app.logger.info(f'Transcript edited at {timestamp}')\n",
    "        return jsonify({'message': 'Transcript edited successfully'}), 200\n",
    "    except Exception as e:\n",
    "        app.logger.error(f'Error editing transcript at {timestamp}: {e}')\n",
    "        return jsonify({'error': str(e)}), 500"
   ]
  },
  {
   "cell_type": "code",
   "execution_count": 356,
   "id": "505442b6",
   "metadata": {},
   "outputs": [],
   "source": [
    "# 刪除指定人名的逐字稿\n",
    "@app.route('/deleteTranscript', methods=['POST'])\n",
    "def deleteTranscript():\n",
    "    data = request.get_json()\n",
    "    timestamp = data.get('timestamp')\n",
    "\n",
    "    if not timestamp:\n",
    "        app.logger.error('Timestamp is missing in the request')\n",
    "        return jsonify({'error': 'Timestamp is missing'}), 400\n",
    "\n",
    "    try:\n",
    "        conn = sqlite3.connect(DATABASE)\n",
    "        cursor = conn.cursor()\n",
    "        cursor.execute(\"DELETE FROM transcripts WHERE timestamp = ?\", (timestamp,))\n",
    "        conn.commit()\n",
    "        conn.close()\n",
    "        app.logger.info(f'Transcript deleted at {timestamp}')\n",
    "        return jsonify({'message': 'Transcript deleted successfully'}), 200\n",
    "    except Exception as e:\n",
    "        app.logger.error(f'Error deleting transcript at {timestamp}: {e}')\n",
    "        return jsonify({'error': str(e)}), 500"
   ]
  },
  {
   "cell_type": "code",
   "execution_count": 357,
   "id": "68088f16",
   "metadata": {},
   "outputs": [],
   "source": [
    "# 上傳錄音檔\n",
    "@app.route('/uploadRecord', methods=['POST'])\n",
    "def upload_record():\n",
    "    print(\"接收到上傳請求\")\n",
    "    if 'file' not in request.files:\n",
    "        print(\"沒有檔案被上傳\")\n",
    "        return jsonify({'success': False, 'message': '沒有檔案被上傳'}), 400\n",
    "    \n",
    "    file = request.files['file']\n",
    "    print(f\"接收到的文件名稱：{file.filename}\")\n",
    "\n",
    "    if file.filename == '':\n",
    "        print(\"文件名稱為空\")\n",
    "        return jsonify({'error': 'No selected file'}), 400\n",
    "\n",
    "    # 檢查文件是否符合允許的類型\n",
    "    if not allowed_file(file.filename):\n",
    "        print(f\"不允許的文件類型：{file.filename}\")\n",
    "        return jsonify({'error': 'File type not allowed'}), 400\n",
    "\n",
    "    # 儲存上傳的檔案\n",
    "    upload_folder = './uploads'\n",
    "    if not os.path.exists(upload_folder):\n",
    "        os.makedirs(upload_folder)\n",
    "\n",
    "    file_path = os.path.join(upload_folder, file.filename)\n",
    "    file.save(file_path)\n",
    "    print(f\"文件已成功保存到：{file_path}\")\n",
    "\n",
    "    return jsonify({'message': 'File uploaded successfully'}), 200\n"
   ]
  },
  {
   "cell_type": "code",
   "execution_count": 358,
   "id": "6c054858",
   "metadata": {
    "tags": []
   },
   "outputs": [
    {
     "name": "stdout",
     "output_type": "stream",
     "text": [
      " * Serving Flask app '__main__'\n",
      " * Debug mode: off\n"
     ]
    },
    {
     "name": "stderr",
     "output_type": "stream",
     "text": [
      "WARNING: This is a development server. Do not use it in a production deployment. Use a production WSGI server instead.\n",
      " * Running on all addresses (0.0.0.0)\n",
      " * Running on http://127.0.0.1:5000\n",
      " * Running on http://192.168.2.104:5000\n",
      "Press CTRL+C to quit\n",
      "127.0.0.1 - - [28/Nov/2024 17:21:13] \"GET / HTTP/1.1\" 200 -\n",
      "127.0.0.1 - - [28/Nov/2024 17:21:13] \"GET /static/images/profile/01.png HTTP/1.1\" 304 -\n",
      "127.0.0.1 - - [28/Nov/2024 17:21:13] \"GET /static/css/style.css HTTP/1.1\" 304 -\n",
      "127.0.0.1 - - [28/Nov/2024 17:21:13] \"GET /static/js/index.js HTTP/1.1\" 200 -\n",
      "127.0.0.1 - - [28/Nov/2024 17:21:13] \"GET /fetchTranscripts?person=張偉 HTTP/1.1\" 200 -\n",
      "127.0.0.1 - - [28/Nov/2024 17:21:14] \"GET /WebExplain.vue.map HTTP/1.1\" 404 -\n",
      "127.0.0.1 - - [28/Nov/2024 17:21:14] \"GET /WebSummary.vue.map HTTP/1.1\" 404 -\n",
      "127.0.0.1 - - [28/Nov/2024 17:21:14] \"GET / HTTP/1.1\" 200 -\n",
      "127.0.0.1 - - [28/Nov/2024 17:21:19] \"POST /uploadRecord HTTP/1.1\" 400 -\n"
     ]
    },
    {
     "name": "stdout",
     "output_type": "stream",
     "text": [
      "接收到上傳請求\n",
      "接收到的文件名稱：requirements.txt\n",
      "不允許的文件類型：requirements.txt\n"
     ]
    },
    {
     "name": "stderr",
     "output_type": "stream",
     "text": [
      "127.0.0.1 - - [28/Nov/2024 17:23:20] \"GET / HTTP/1.1\" 200 -\n",
      "127.0.0.1 - - [28/Nov/2024 17:23:20] \"GET /static/css/style.css HTTP/1.1\" 304 -\n",
      "127.0.0.1 - - [28/Nov/2024 17:23:20] \"GET /static/images/profile/01.png HTTP/1.1\" 304 -\n",
      "127.0.0.1 - - [28/Nov/2024 17:23:20] \"GET /static/js/index.js HTTP/1.1\" 200 -\n",
      "127.0.0.1 - - [28/Nov/2024 17:23:20] \"GET /fetchTranscripts?person=張偉 HTTP/1.1\" 200 -\n",
      "127.0.0.1 - - [28/Nov/2024 17:23:20] \"GET /WebExplain.vue.map HTTP/1.1\" 404 -\n",
      "127.0.0.1 - - [28/Nov/2024 17:23:20] \"GET /WebSummary.vue.map HTTP/1.1\" 404 -\n",
      "127.0.0.1 - - [28/Nov/2024 17:23:20] \"GET / HTTP/1.1\" 200 -\n",
      "127.0.0.1 - - [28/Nov/2024 17:23:25] \"POST /uploadRecord HTTP/1.1\" 400 -\n"
     ]
    },
    {
     "name": "stdout",
     "output_type": "stream",
     "text": [
      "接收到上傳請求\n",
      "接收到的文件名稱：requirements.txt\n",
      "不允許的文件類型：requirements.txt\n"
     ]
    },
    {
     "name": "stderr",
     "output_type": "stream",
     "text": [
      "127.0.0.1 - - [28/Nov/2024 17:23:34] \"POST /uploadRecord HTTP/1.1\" 200 -\n"
     ]
    },
    {
     "name": "stdout",
     "output_type": "stream",
     "text": [
      "接收到上傳請求\n",
      "接收到的文件名稱：your-voice-file.wav\n",
      "文件已成功保存到：./uploads\\your-voice-file.wav\n"
     ]
    }
   ],
   "source": [
    "if __name__ == '__main__':\n",
    "    app.run(host='0.0.0.0', port=5000)"
   ]
  }
 ],
 "metadata": {
  "kernelspec": {
   "display_name": "base",
   "language": "python",
   "name": "python3"
  },
  "language_info": {
   "codemirror_mode": {
    "name": "ipython",
    "version": 3
   },
   "file_extension": ".py",
   "mimetype": "text/x-python",
   "name": "python",
   "nbconvert_exporter": "python",
   "pygments_lexer": "ipython3",
   "version": "3.11.7"
  }
 },
 "nbformat": 4,
 "nbformat_minor": 5
}
