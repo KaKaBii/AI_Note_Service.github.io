{
 "cells": [
  {
   "cell_type": "markdown",
   "id": "d4ec79a4",
   "metadata": {
    "tags": []
   },
   "source": [
    "### Install Flask package using pip\n",
    "The exclamation mark '!' is used to execute Linux commands. \n",
    "If the Flask package is installed, you can ignore the cell below."
   ]
  },
  {
   "cell_type": "code",
   "execution_count": 136,
   "id": "8b7c3e6b",
   "metadata": {
    "tags": []
   },
   "outputs": [],
   "source": [
    "#!pip3 install flask"
   ]
  },
  {
   "cell_type": "code",
   "execution_count": 137,
   "id": "d5c0f275",
   "metadata": {},
   "outputs": [],
   "source": [
    "#!pip install --upgrade flask\n"
   ]
  },
  {
   "cell_type": "code",
   "execution_count": 138,
   "id": "93343030",
   "metadata": {},
   "outputs": [],
   "source": [
    "#!pip install watchdog"
   ]
  },
  {
   "cell_type": "code",
   "execution_count": 139,
   "id": "c137df1b",
   "metadata": {},
   "outputs": [],
   "source": [
    "#!pip install ailabs_asr"
   ]
  },
  {
   "cell_type": "code",
   "execution_count": 140,
   "id": "3bd9c2ad",
   "metadata": {
    "tags": []
   },
   "outputs": [],
   "source": [
    "#  環境依賴\n",
    "import os\n",
    "import gc\n",
    "import sqlite3\n",
    "import uuid\n",
    "from datetime import datetime\n",
    "from werkzeug.utils import secure_filename\n",
    "from pydub import AudioSegment\n",
    "from ailabs_asr.streaming import StreamingClient \n",
    "from flask import Flask, render_template, request, jsonify"
   ]
  },
  {
   "cell_type": "code",
   "execution_count": 141,
   "id": "5f4d88b7",
   "metadata": {
    "tags": []
   },
   "outputs": [],
   "source": [
    "app = Flask(__name__)"
   ]
  },
  {
   "cell_type": "code",
   "execution_count": 142,
   "id": "59c643e0",
   "metadata": {},
   "outputs": [],
   "source": [
    "# 資料路徑設定\n",
    "DATABASE_FOLDER = os.path.join(app.root_path, 'instance')\n",
    "UPLOAD_FOLDER = os.path.join(app.root_path, 'uploads')\n",
    "\n",
    "DATABASE = os.path.join(DATABASE_FOLDER, 'database.db')"
   ]
  },
  {
   "cell_type": "code",
   "execution_count": 143,
   "id": "f63375d2",
   "metadata": {},
   "outputs": [],
   "source": [
    "# 設定允許的檔案類型\n",
    "ALLOWED_EXTENSIONS = {'wav', 'mp3', 'm4a'}\n",
    "\n",
    "def allowed_file(filename):\n",
    "    return '.' in filename and filename.rsplit('.', 1)[1].lower() in ALLOWED_EXTENSIONS"
   ]
  },
  {
   "cell_type": "code",
   "execution_count": 144,
   "id": "eab6df28",
   "metadata": {},
   "outputs": [],
   "source": [
    "# 確保所有需要的文件夾存在\n",
    "for folder in [DATABASE_FOLDER]:\n",
    "    if not os.path.exists(folder):\n",
    "        os.makedirs(folder)"
   ]
  },
  {
   "cell_type": "code",
   "execution_count": 145,
   "id": "32ad531e",
   "metadata": {
    "tags": []
   },
   "outputs": [],
   "source": [
    "# 定義根目錄\n",
    "@app.route('/')\n",
    "def index():\n",
    "    return render_template('index.html')"
   ]
  },
  {
   "cell_type": "code",
   "execution_count": 146,
   "id": "9fdb72bb",
   "metadata": {},
   "outputs": [],
   "source": [
    "# 定義分類目錄入口\n",
    "@app.route('/classify')\n",
    "def classify():\n",
    "    return render_template('class.html')"
   ]
  },
  {
   "cell_type": "code",
   "execution_count": 147,
   "id": "da4a7bda",
   "metadata": {},
   "outputs": [],
   "source": [
    "#定義身體頁面\n",
    "@app.route('/body')\n",
    "def bodyPage():\n",
    "   return render_template('classTemplate.html', title = \"BODY\")"
   ]
  },
  {
   "cell_type": "code",
   "execution_count": 148,
   "id": "95f06347",
   "metadata": {},
   "outputs": [],
   "source": [
    "#定義心靈頁面\n",
    "@app.route('/psycho')\n",
    "def psychoPage():\n",
    "   return render_template('classTemplate.html', title = \"PSYCHO\")"
   ]
  },
  {
   "cell_type": "code",
   "execution_count": 149,
   "id": "9cd19714",
   "metadata": {},
   "outputs": [],
   "source": [
    "#定義社會頁面\n",
    "@app.route('/social')\n",
    "def socialPage():\n",
    "   return render_template('classTemplate.html', title = \"SOCIAL\")"
   ]
  },
  {
   "cell_type": "code",
   "execution_count": 150,
   "id": "807a9b63",
   "metadata": {},
   "outputs": [],
   "source": [
    "#定義特殊頁面\n",
    "@app.route('/special')\n",
    "def specialPage():\n",
    "   return render_template('classTemplate.html', title = \"SPECIAL\")"
   ]
  },
  {
   "cell_type": "code",
   "execution_count": 151,
   "id": "3b5d2ce3",
   "metadata": {},
   "outputs": [],
   "source": [
    "#定義其他頁面\n",
    "@app.route('/extra')\n",
    "def extraPage():\n",
    "   return render_template('classTemplate.html', title = \"EXTRA\")"
   ]
  },
  {
   "cell_type": "code",
   "execution_count": 152,
   "id": "3e5b78ff",
   "metadata": {},
   "outputs": [],
   "source": [
    "# 查詢姓名列表\n",
    "@app.route('/fetchNameList', methods=['GET']) \n",
    "def fetchNameList():\n",
    "    try:\n",
    "        # 使用 with 語句管理資料庫連線\n",
    "        with sqlite3.connect(DATABASE) as conn:\n",
    "            cursor = conn.cursor()\n",
    "            cursor.execute(\"SELECT name FROM nameList\")  # 假設表格名稱為 'nameList'，字段名稱為 'name'\n",
    "            names = [row[0] for row in cursor.fetchall()]\n",
    "        return jsonify(names)\n",
    "\n",
    "    except Exception as e:\n",
    "        return jsonify({'error': str(e)}), 500\n"
   ]
  },
  {
   "cell_type": "code",
   "execution_count": 153,
   "id": "4e247031",
   "metadata": {},
   "outputs": [],
   "source": [
    "# 新增姓名到資料庫\n",
    "@app.route('/addName', methods=['POST'])\n",
    "def addName():\n",
    "    try:\n",
    "        data = request.get_json()\n",
    "        new_name = data.get('name')\n",
    "        if not new_name:\n",
    "            return jsonify({'error': 'No name provided'}), 400\n",
    "        \n",
    "        conn = sqlite3.connect(DATABASE)\n",
    "        cursor = conn.cursor()\n",
    "        cursor.execute(\"INSERT INTO nameList (name) VALUES (?)\", (new_name,))\n",
    "        conn.commit()\n",
    "        conn.close()\n",
    "        return jsonify({'success': True}), 200\n",
    "    except Exception as e:\n",
    "        return jsonify({'error': str(e)}), 500"
   ]
  },
  {
   "cell_type": "code",
   "execution_count": 154,
   "id": "09947e62",
   "metadata": {},
   "outputs": [],
   "source": [
    "# 查詢指定人名的逐字稿\n",
    "@app.route('/fetchTranscripts', methods=['GET'])\n",
    "def fetchTranscripts():\n",
    "    person = request.args.get('person')  # 從請求中獲取人名參數\n",
    "    if not person:\n",
    "        return jsonify({'error': 'No person provided'}), 400\n",
    "\n",
    "    try:\n",
    "        conn = sqlite3.connect(DATABASE)\n",
    "        cursor = conn.cursor()\n",
    "        # 根據名稱查詢逐字稿\n",
    "        cursor.execute(\"SELECT content, timestamp FROM transcripts WHERE name = ? ORDER BY timestamp DESC\", (person,))\n",
    "        rows = cursor.fetchall()\n",
    "        transcripts = [{'content': row[0], 'timestamp': row[1]} for row in rows]\n",
    "        conn.close()\n",
    "        app.logger.info(f'Transcripts fetched for {person}: {transcripts}')\n",
    "\n",
    "        return jsonify(transcripts)\n",
    "\n",
    "    except Exception as e:\n",
    "        return jsonify({'error': str(e)}), 500"
   ]
  },
  {
   "cell_type": "code",
   "execution_count": 155,
   "id": "ea38da53",
   "metadata": {},
   "outputs": [],
   "source": [
    "# 新增指定人名的逐字稿\n",
    "@app.route('/uploadTranscript', methods=['POST'])\n",
    "def uploadTranscript():\n",
    "    data = request.get_json()\n",
    "    name = data.get('name')\n",
    "    content = data.get('content')\n",
    "    timestamp = datetime.now().strftime('%Y-%m-%d %H:%M:%S')\n",
    "\n",
    "    if not name or not content:\n",
    "        app.logger.error('Name or content is missing in the request')\n",
    "        return jsonify({'error': 'Name or content is missing'}), 400\n",
    "\n",
    "    try:\n",
    "        conn = sqlite3.connect(DATABASE)\n",
    "        cursor = conn.cursor()\n",
    "        cursor.execute(\"INSERT INTO transcripts (name, content, timestamp) VALUES (?, ?, ?)\", (name, content, timestamp))\n",
    "        conn.commit()\n",
    "        conn.close()\n",
    "        app.logger.info(f'Transcript uploaded for {name} at {timestamp}')\n",
    "        return jsonify({'message': 'Transcript uploaded successfully'}), 200\n",
    "    except Exception as e:\n",
    "        app.logger.error(f'Error uploading transcript for {name}: {e}')\n",
    "        return jsonify({'error': str(e)}), 500"
   ]
  },
  {
   "cell_type": "code",
   "execution_count": 156,
   "id": "5075119e",
   "metadata": {},
   "outputs": [],
   "source": [
    "# 編輯指定人名的逐字稿\n",
    "@app.route('/editTranscript', methods=['POST'])\n",
    "def editTranscript():\n",
    "    data = request.get_json()\n",
    "    timestamp = data.get('timestamp')\n",
    "    new_content = data.get('newContent')\n",
    "\n",
    "    if not timestamp or not new_content:\n",
    "        app.logger.error('Timestamp or new content is missing in the request')\n",
    "        return jsonify({'error': 'Timestamp or new content is missing'}), 400\n",
    "\n",
    "    try:\n",
    "        conn = sqlite3.connect(DATABASE)\n",
    "        cursor = conn.cursor()\n",
    "        cursor.execute(\"UPDATE transcripts SET content = ? WHERE timestamp = ?\", (new_content, timestamp))\n",
    "        conn.commit()\n",
    "        conn.close()\n",
    "        app.logger.info(f'Transcript edited at {timestamp}')\n",
    "        return jsonify({'message': 'Transcript edited successfully'}), 200\n",
    "    except Exception as e:\n",
    "        app.logger.error(f'Error editing transcript at {timestamp}: {e}')\n",
    "        return jsonify({'error': str(e)}), 500"
   ]
  },
  {
   "cell_type": "code",
   "execution_count": 157,
   "id": "505442b6",
   "metadata": {},
   "outputs": [],
   "source": [
    "# 刪除指定人名的逐字稿\n",
    "@app.route('/deleteTranscript', methods=['POST'])\n",
    "def deleteTranscript():\n",
    "    data = request.get_json()\n",
    "    timestamp = data.get('timestamp')\n",
    "\n",
    "    if not timestamp:\n",
    "        app.logger.error('Timestamp is missing in the request')\n",
    "        return jsonify({'error': 'Timestamp is missing'}), 400\n",
    "\n",
    "    try:\n",
    "        conn = sqlite3.connect(DATABASE)\n",
    "        cursor = conn.cursor()\n",
    "        cursor.execute(\"DELETE FROM transcripts WHERE timestamp = ?\", (timestamp,))\n",
    "        conn.commit()\n",
    "        conn.close()\n",
    "        app.logger.info(f'Transcript deleted at {timestamp}')\n",
    "        return jsonify({'message': 'Transcript deleted successfully'}), 200\n",
    "    except Exception as e:\n",
    "        app.logger.error(f'Error deleting transcript at {timestamp}: {e}')\n",
    "        return jsonify({'error': str(e)}), 500"
   ]
  },
  {
   "cell_type": "code",
   "execution_count": 158,
   "id": "f1e10a2e",
   "metadata": {},
   "outputs": [],
   "source": [
    "# 確保音頻格式\n",
    "def ensure_audio_format(input_file_path, output_file_path):\n",
    "    \"\"\"\n",
    "    將音頻文件轉換為指定的格式：\n",
    "    16kHz, 單聲道, 16 bits per sample, PCM 格式\n",
    "    \"\"\"\n",
    "    try:\n",
    "        # 從文件中加載音頻\n",
    "        audio = AudioSegment.from_file(input_file_path)\n",
    "\n",
    "        # 設置音頻參數：16kHz 采樣率、單聲道、16位深度\n",
    "        audio = audio.set_frame_rate(16000)\n",
    "        audio = audio.set_channels(1)\n",
    "        audio = audio.set_sample_width(2)  # 16 bits -> 2 bytes\n",
    "\n",
    "        # 將文件導出為符合要求的 PCM WAV 文件\n",
    "        audio.export(output_file_path, format=\"wav\")\n",
    "        \n",
    "        print(f\"音頻已成功轉換並保存至：{output_file_path}\")\n",
    "        \n",
    "        # 顯式釋放音頻對象以確保文件不被鎖定\n",
    "        del audio\n",
    "        gc.collect()  # 手動進行垃圾回收，確保內存釋放\n",
    "        \n",
    "    except Exception as e:\n",
    "        print(f\"音頻格式處理失敗：{e}\")\n",
    "        raise"
   ]
  },
  {
   "cell_type": "code",
   "execution_count": 159,
   "id": "d9a91409",
   "metadata": {},
   "outputs": [],
   "source": [
    "# 語音轉文字模塊\n",
    "def transcribe_audio(file_path):\n",
    "    \"\"\"\n",
    "    使用語音轉文字模塊來處理音頻文件，將音頻文件轉換為文本。\n",
    "    \"\"\"\n",
    "\n",
    "    # 獲取金鑰檔案\n",
    "    current_dir = os.getcwd()\n",
    "    key_file_path = os.path.join(current_dir, 'key.txt')\n",
    "    \n",
    "    if not os.path.exists(key_file_path):\n",
    "        raise FileNotFoundError(f\"檔案 '{key_file_path}' 不存在，請檢查檔案路徑或內容！\")\n",
    "\n",
    "    # 繼續讀取金鑰\n",
    "    with open(key_file_path, 'r') as file:\n",
    "        api_key = file.read().strip()\n",
    "        if api_key == \"\" or None:\n",
    "            raise FileNotFoundError(f\"金鑰為空！\")\n",
    "\n",
    "    transcript = []\n",
    "    def on_processing_sentence(message):\n",
    "        print(f'hello: {message[\"asr_sentence\"]}')\n",
    "\n",
    "    def on_final_sentence(message):\n",
    "        transcript.append(message[\"asr_sentence\"])\n",
    "        #print(f'world: {message[\"asr_sentence\"]}')\n",
    "        \n",
    "    asr_client = StreamingClient(key=api_key)\n",
    "\n",
    "    # 開始語音轉文字處理\n",
    "    asr_client.start_streaming_wav(\n",
    "        pipeline='asr-zh-tw-std',\n",
    "        file=file_path,\n",
    "        #on_processing_sentence=on_processing_sentence,\n",
    "        on_final_sentence=on_final_sentence\n",
    "    )\n",
    "    \n",
    "    return transcript"
   ]
  },
  {
   "cell_type": "code",
   "execution_count": 160,
   "id": "47eb73bf",
   "metadata": {},
   "outputs": [],
   "source": [
    "# 將逐字稿保存到資料庫\n",
    "def save_transcript_to_db(user, content):\n",
    "    \"\"\"\n",
    "    將逐字稿保存到資料庫中。\n",
    "    \"\"\"\n",
    "    try:\n",
    "        conn = sqlite3.connect(DATABASE)\n",
    "        cursor = conn.cursor()\n",
    "        timestamp = datetime.now().strftime('%Y-%m-%d %H:%M:%S')\n",
    "\n",
    "        cursor.execute(\"INSERT INTO transcripts (name, content, timestamp) VALUES (?, ?, ?)\", (user, content, timestamp))\n",
    "        \n",
    "        conn.commit()\n",
    "        conn.close()\n",
    "        print(f\"逐字稿已成功儲存到資料庫，使用者：{user}\")\n",
    "    except Exception as e:\n",
    "        app.logger.error(f'Error uploading transcript for {user}: {e}')"
   ]
  },
  {
   "cell_type": "code",
   "execution_count": null,
   "id": "68088f16",
   "metadata": {},
   "outputs": [],
   "source": [
    "# 上傳錄音檔\n",
    "@app.route('/uploadRecord', methods=['POST'])\n",
    "def upload_record():\n",
    "    print(\"接收到上傳請求\")\n",
    "    if 'file' not in request.files:\n",
    "        print(\"沒有檔案被上傳\")\n",
    "        return jsonify({'success': False, 'message': '沒有檔案被上傳'}), 400\n",
    "    \n",
    "    file = request.files['file']\n",
    "    print(f\"接收到的文件名稱：{file.filename}\")\n",
    "\n",
    "    if file.filename == '':\n",
    "        print(\"文件名稱為空\")\n",
    "        return jsonify({'error': 'No selected file'}), 400\n",
    "\n",
    "    # 檢查文件是否符合允許的類型\n",
    "    if not allowed_file(file.filename):\n",
    "        print(f\"不允許的文件類型：{file.filename}\")\n",
    "        return jsonify({'error': 'File type not allowed'}), 400\n",
    "\n",
    "    # 生成唯一文件名\n",
    "    temp_file_path = os.path.join(UPLOAD_FOLDER, f\"temp_{uuid.uuid4().hex}_{file.filename}\")\n",
    "\n",
    "    try:\n",
    "        # 先儲存上傳的原始檔案到磁碟\n",
    "        with open(temp_file_path, 'wb') as f:\n",
    "            file.save(f)\n",
    "        print(f\"臨時文件已成功保存至：{temp_file_path}\")\n",
    "\n",
    "        # 轉換音頻格式並重新儲存，並刪除原始檔案\n",
    "        converted_file_path = os.path.splitext(temp_file_path)[0] + \"_converted.wav\"\n",
    "        ensure_audio_format(temp_file_path, converted_file_path)\n",
    "\n",
    "        # 刪除原始文件\n",
    "        if os.path.exists(temp_file_path):\n",
    "            os.remove(temp_file_path)\n",
    "        print(f\"原始臨時文件已刪除：{temp_file_path}\")\n",
    "\n",
    "        print(\"正在轉換逐字稿......\")\n",
    "        contents = transcribe_audio(converted_file_path)\n",
    "        print(\"轉換完成\")\n",
    "        print(contents)\n",
    "        user = request.form.get('user')\n",
    "        \n",
    "        # 使用 join 生成合併後的內容\n",
    "        transcript = \"\\n\".join(contents)\n",
    "        \n",
    "        print(transcript)    \n",
    "        save_transcript_to_db(user, transcript)\n",
    "        print(\"逐字稿成功寫入資料庫\")\n",
    "\n",
    "    except Exception as e:\n",
    "        print(f\"音頻轉換失敗：{e}\")\n",
    "        # 如果轉換失敗，刪除臨時文件\n",
    "        if os.path.exists(temp_file_path):\n",
    "            os.remove(temp_file_path)\n",
    "        return jsonify({'error': 'Audio conversion failed'}), 500\n",
    "\n",
    "    return jsonify({'message': 'File uploaded and converted successfully', 'converted_file_path': converted_file_path}), 200"
   ]
  },
  {
   "cell_type": "code",
   "execution_count": null,
   "id": "6c054858",
   "metadata": {
    "tags": []
   },
   "outputs": [
    {
     "name": "stdout",
     "output_type": "stream",
     "text": [
      " * Serving Flask app '__main__'\n",
      " * Debug mode: off\n"
     ]
    },
    {
     "name": "stderr",
     "output_type": "stream",
     "text": [
      "WARNING: This is a development server. Do not use it in a production deployment. Use a production WSGI server instead.\n",
      " * Running on all addresses (0.0.0.0)\n",
      " * Running on http://127.0.0.1:5000\n",
      " * Running on http://192.168.2.104:5000\n",
      "Press CTRL+C to quit\n",
      "192.168.2.104 - - [28/Nov/2024 21:45:38] \"GET / HTTP/1.1\" 200 -\n",
      "192.168.2.104 - - [28/Nov/2024 21:45:38] \"GET /static/images/profile/01.png HTTP/1.1\" 304 -\n",
      "192.168.2.104 - - [28/Nov/2024 21:45:38] \"GET /static/css/style.css HTTP/1.1\" 304 -\n",
      "192.168.2.104 - - [28/Nov/2024 21:45:38] \"GET /static/js/index.js HTTP/1.1\" 200 -\n",
      "192.168.2.104 - - [28/Nov/2024 21:45:38] \"GET /fetchTranscripts?person=張偉 HTTP/1.1\" 200 -\n",
      "192.168.2.104 - - [28/Nov/2024 21:45:38] \"GET / HTTP/1.1\" 200 -\n"
     ]
    },
    {
     "name": "stdout",
     "output_type": "stream",
     "text": [
      "接收到上傳請求\n",
      "接收到的文件名稱：中台.wav\n",
      "臨時文件已成功保存至：c:\\Users\\IOTLAB\\Documents\\GitHub\\AI_Note_Service.github.io\\APP1\\uploads\\temp_03f4bd5fc1314e77aeaa01bc63c996b4_中台.wav\n",
      "音頻已成功轉換並保存至：c:\\Users\\IOTLAB\\Documents\\GitHub\\AI_Note_Service.github.io\\APP1\\uploads\\temp_03f4bd5fc1314e77aeaa01bc63c996b4_中台_converted.wav\n",
      "原始臨時文件已刪除：c:\\Users\\IOTLAB\\Documents\\GitHub\\AI_Note_Service.github.io\\APP1\\uploads\\temp_03f4bd5fc1314e77aeaa01bc63c996b4_中台.wav\n",
      "正在轉換逐字稿......\n",
      "### start stream ###\n",
      "### opened ###\n",
      "{\"status\":\"ok\",\"ssid\":\"3f84b2a6-cdde-4020-881e-8ad81e99808c\",\"message_type\":\"session_started\"}\n",
      "segment: 好現在我們要\n",
      "segment: 好現在我們要進行一\n",
      "segment: 好現在我們要進行一個簡單\n",
      "segment: 好現在我們要進行一個簡單的\n",
      "segment: 好現在我們要進行一個簡單的訪問\n",
      "segment: 好現在我們要進行一個簡單的問你今天\n",
      "segment: 好現在我們要進行一個簡單的問你今天晚上想\n",
      "segment: 好現在我們要進行一個簡單的問你今天晚上想吃\n",
      "segment: 好現在我們要進行一個簡單的問你今天晚上想吃什麼\n",
      "segment: 好現在我們要進行一個簡單的問你今天晚上想吃什麼我今天要吃\n",
      "segment: 好現在我們要進行一個簡單的問你今天晚上想吃什麼我今天要吃炒飯\n",
      "segment: 那真是主要\n",
      "segment: 那真是主要是我聽不\n",
      "segment: 那真是主要是我聽不懂\n",
      "segment: 那真是主要是我聽不懂台語\n",
      "segment: 那真是主要是我聽不懂台語那你的外套是\n",
      "segment: 那真是主要是我聽不懂台語那你的外套是哪裡買\n",
      "segment: 那真是主要是我聽不懂台語那你的外套是哪裡買的\n",
      "segment: 那真是主要是我聽不懂台語那你的外套是哪裡買的外套是在\n",
      "segment: 那真是主要是我聽不懂台語那你的外套是哪裡買的外套是在uniqlo買\n",
      "segment: 好的我\n",
      "segment: 好的我有聽\n",
      "segment: 好的我有聽懂\n",
      "segment: 好的我有聽懂uniqlo的部分\n",
      "segment: 好的我有聽懂uniqlo的部分雖然這一段\n",
      "segment: 好的我有聽懂uniqlo的部分雖然這一段等一下翻得\n",
      "segment: 好的我有聽懂uniqlo的部分雖然這一段等一下翻得很\n",
      "segment: 好的我有聽懂uniqlo的部分雖然這一段等一下翻得很奇怪\n"
     ]
    },
    {
     "name": "stderr",
     "output_type": "stream",
     "text": [
      "192.168.2.104 - - [28/Nov/2024 21:46:17] \"POST /uploadRecord?name=張偉 HTTP/1.1\" 200 -\n"
     ]
    },
    {
     "name": "stdout",
     "output_type": "stream",
     "text": [
      "### closed ###\n",
      "Websocket closed[None]: None\n",
      "轉換完成\n",
      "['好，現在我們要進行一個簡單的問你，今天晚上想吃什麼，我今天要吃炒飯', '那真是，主要是我聽不懂台語，那你的外套是哪裡買的外套是在 uniqlo 買', '好的，我有聽懂 uniqlo 的部分，雖然這一段等一下翻得很奇怪，就這樣']\n",
      "張偉 好，現在我們要進行一個簡單的問你，今天晚上想吃什麼，我今天要吃炒飯\n",
      "那真是，主要是我聽不懂台語，那你的外套是哪裡買的外套是在 uniqlo 買\n",
      "好的，我有聽懂 uniqlo 的部分，雖然這一段等一下翻得很奇怪，就這樣\n",
      "逐字稿已成功儲存到資料庫，使用者：張偉\n",
      "逐字稿成功寫入資料庫\n"
     ]
    },
    {
     "name": "stderr",
     "output_type": "stream",
     "text": [
      "192.168.2.104 - - [28/Nov/2024 21:46:19] \"GET /fetchTranscripts?person=張偉 HTTP/1.1\" 200 -\n",
      "192.168.2.104 - - [28/Nov/2024 21:46:54] \"POST /deleteTranscript HTTP/1.1\" 200 -\n",
      "192.168.2.104 - - [28/Nov/2024 21:46:56] \"GET /fetchTranscripts?person=張偉 HTTP/1.1\" 200 -\n",
      "192.168.2.104 - - [28/Nov/2024 21:46:58] \"POST /deleteTranscript HTTP/1.1\" 200 -\n",
      "192.168.2.104 - - [28/Nov/2024 21:46:59] \"GET /fetchTranscripts?person=張偉 HTTP/1.1\" 200 -\n",
      "192.168.2.104 - - [28/Nov/2024 21:48:15] \"POST /deleteTranscript HTTP/1.1\" 200 -\n",
      "192.168.2.104 - - [28/Nov/2024 21:48:16] \"GET /fetchTranscripts?person=張偉 HTTP/1.1\" 200 -\n",
      "127.0.0.1 - - [28/Nov/2024 21:49:04] \"GET / HTTP/1.1\" 200 -\n",
      "127.0.0.1 - - [28/Nov/2024 21:49:57] \"GET / HTTP/1.1\" 200 -\n",
      "127.0.0.1 - - [28/Nov/2024 21:49:57] \"GET /static/css/style.css HTTP/1.1\" 304 -\n",
      "127.0.0.1 - - [28/Nov/2024 21:49:57] \"GET /static/images/profile/01.png HTTP/1.1\" 304 -\n",
      "127.0.0.1 - - [28/Nov/2024 21:49:57] \"GET /static/js/index.js HTTP/1.1\" 200 -\n",
      "127.0.0.1 - - [28/Nov/2024 21:49:57] \"GET /fetchTranscripts?person=張偉 HTTP/1.1\" 200 -\n",
      "127.0.0.1 - - [28/Nov/2024 21:49:57] \"GET / HTTP/1.1\" 200 -\n"
     ]
    },
    {
     "name": "stdout",
     "output_type": "stream",
     "text": [
      "接收到上傳請求\n",
      "接收到的文件名稱：中台2.wav\n",
      "臨時文件已成功保存至：c:\\Users\\IOTLAB\\Documents\\GitHub\\AI_Note_Service.github.io\\APP1\\uploads\\temp_3b090c6ddc0b4f56bc2a615703ab479c_中台2.wav\n",
      "音頻已成功轉換並保存至：c:\\Users\\IOTLAB\\Documents\\GitHub\\AI_Note_Service.github.io\\APP1\\uploads\\temp_3b090c6ddc0b4f56bc2a615703ab479c_中台2_converted.wav\n",
      "原始臨時文件已刪除：c:\\Users\\IOTLAB\\Documents\\GitHub\\AI_Note_Service.github.io\\APP1\\uploads\\temp_3b090c6ddc0b4f56bc2a615703ab479c_中台2.wav\n",
      "正在轉換逐字稿......\n",
      "### start stream ###\n",
      "### opened ###\n",
      "{\"status\":\"ok\",\"ssid\":\"469bd402-98a7-449c-9dff-8760bc67c810\",\"message_type\":\"session_started\"}\n",
      "segment: 好那我們\n",
      "segment: 好那我們接下來\n",
      "segment: 好那我們接下來進行第二\n",
      "segment: 好那我們接下來進行第二次\n",
      "segment: 好那我們接下來進行第二次測試我們\n",
      "segment: 好那我們接下來進行第二次測試我們請開發\n",
      "segment: 好那我們接下來進行第二次測試我們請開發人員\n",
      "segment: 好那我們接下來進行第二次測試我們請開發人員來\n",
      "segment: 好那我們接下來進行第二次測試我們請開發人員來講一下現在\n",
      "segment: 好那我們接下來進行第二次測試我們請開發人員來講一下現在的狀況\n",
      "segment: 好那我們接下來進行第二次測試我們請開發人員來講一下現在的狀況現在就是\n",
      "segment: 好那我們接下來進行第二次測試我們請開發人員來講一下現在的狀況現在就是第一段的狀況\n",
      "segment: 好那我們接下來進行第二次測試我們請開發人員來講一下現在的狀況現在就是第一段的狀況不錯\n",
      "segment: 好那我們接下來進行第二次測試我們請開發人員來講一下現在的狀況現在就是第一段的狀況不錯第二段還沒\n",
      "segment: 好那我們接下來進行第二次測試我們請開發人員來講一下現在的狀況現在就是第一段的狀況不錯第二段還沒做好\n",
      "segment: 狀況就是\n",
      "segment: 狀況就是這個\n",
      "segment: 狀況就是這個狀況\n"
     ]
    },
    {
     "name": "stderr",
     "output_type": "stream",
     "text": [
      "127.0.0.1 - - [28/Nov/2024 21:50:26] \"POST /uploadRecord?name=張偉 HTTP/1.1\" 200 -\n"
     ]
    },
    {
     "name": "stdout",
     "output_type": "stream",
     "text": [
      "### closed ###\n",
      "Websocket closed[None]: None\n",
      "轉換完成\n",
      "['好，那我們接下來進行第二次測試，我們請開發人員來講一下，現在的狀況，現在就是第一段的狀況不錯，第二段還沒做好，', 'ok', '狀況就是這個狀況，謝謝']\n",
      "張偉 好，那我們接下來進行第二次測試，我們請開發人員來講一下，現在的狀況，現在就是第一段的狀況不錯，第二段還沒做好，\n",
      "ok\n",
      "狀況就是這個狀況，謝謝\n",
      "逐字稿已成功儲存到資料庫，使用者：張偉\n",
      "逐字稿成功寫入資料庫\n"
     ]
    },
    {
     "name": "stderr",
     "output_type": "stream",
     "text": [
      "127.0.0.1 - - [28/Nov/2024 21:50:34] \"GET /fetchTranscripts?person=張偉 HTTP/1.1\" 200 -\n",
      "127.0.0.1 - - [28/Nov/2024 21:50:45] \"GET /fetchNameList HTTP/1.1\" 200 -\n",
      "127.0.0.1 - - [28/Nov/2024 21:50:46] \"GET /fetchTranscripts?person=李麗芬 HTTP/1.1\" 200 -\n",
      "127.0.0.1 - - [28/Nov/2024 21:50:49] \"GET /fetchNameList HTTP/1.1\" 200 -\n",
      "127.0.0.1 - - [28/Nov/2024 21:50:49] \"GET /fetchTranscripts?person=張偉 HTTP/1.1\" 200 -\n"
     ]
    }
   ],
   "source": [
    "if __name__ == '__main__':\n",
    "    app.run(host='0.0.0.0', port=5000)"
   ]
  }
 ],
 "metadata": {
  "kernelspec": {
   "display_name": "base",
   "language": "python",
   "name": "python3"
  },
  "language_info": {
   "codemirror_mode": {
    "name": "ipython",
    "version": 3
   },
   "file_extension": ".py",
   "mimetype": "text/x-python",
   "name": "python",
   "nbconvert_exporter": "python",
   "pygments_lexer": "ipython3",
   "version": "3.11.7"
  }
 },
 "nbformat": 4,
 "nbformat_minor": 5
}
