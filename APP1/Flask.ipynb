{
 "cells": [
  {
   "cell_type": "markdown",
   "id": "d4ec79a4",
   "metadata": {
    "tags": []
   },
   "source": [
    "### Install Flask package using pip\n",
    "The exclamation mark '!' is used to execute Linux commands. \n",
    "If the Flask package is installed, you can ignore the cell below."
   ]
  },
  {
   "cell_type": "code",
   "execution_count": 179,
   "id": "8b7c3e6b",
   "metadata": {
    "tags": []
   },
   "outputs": [],
   "source": [
    "#!pip3 install flask"
   ]
  },
  {
   "cell_type": "code",
   "execution_count": 180,
   "id": "d5c0f275",
   "metadata": {},
   "outputs": [],
   "source": [
    "#!pip install --upgrade flask\n"
   ]
  },
  {
   "cell_type": "code",
   "execution_count": 181,
   "id": "93343030",
   "metadata": {},
   "outputs": [],
   "source": [
    "#!pip install watchdog"
   ]
  },
  {
   "cell_type": "code",
   "execution_count": 182,
   "id": "3bd9c2ad",
   "metadata": {
    "tags": []
   },
   "outputs": [],
   "source": [
    "import os\n",
    "import sqlite3\n",
    "from datetime import datetime\n",
    "from livereload import Server\n",
    "from flask import Flask, render_template, request, jsonify"
   ]
  },
  {
   "cell_type": "code",
   "execution_count": 183,
   "id": "5f4d88b7",
   "metadata": {
    "tags": []
   },
   "outputs": [],
   "source": [
    "app = Flask(__name__)"
   ]
  },
  {
   "cell_type": "code",
   "execution_count": 184,
   "id": "59c643e0",
   "metadata": {},
   "outputs": [],
   "source": [
    "# 資料庫路徑\n",
    "DATABASE_FOLDER = os.path.join(app.root_path, 'instance')\n"
   ]
  },
  {
   "cell_type": "code",
   "execution_count": 185,
   "id": "eab6df28",
   "metadata": {},
   "outputs": [],
   "source": [
    "# 確保所有需要的文件夾存在\n",
    "for folder in [DATABASE_FOLDER]:\n",
    "    if not os.path.exists(folder):\n",
    "        os.makedirs(folder)"
   ]
  },
  {
   "cell_type": "code",
   "execution_count": 186,
   "id": "9b75f00d",
   "metadata": {},
   "outputs": [],
   "source": [
    "DATABASE = os.path.join(DATABASE_FOLDER, 'database.db')"
   ]
  },
  {
   "cell_type": "code",
   "execution_count": 187,
   "id": "32ad531e",
   "metadata": {
    "tags": []
   },
   "outputs": [],
   "source": [
    "# 定義根目錄\n",
    "@app.route('/')\n",
    "def index():\n",
    "    return render_template('index.html')"
   ]
  },
  {
   "cell_type": "code",
   "execution_count": 188,
   "id": "9fdb72bb",
   "metadata": {},
   "outputs": [],
   "source": [
    "# 定義分類目錄入口\n",
    "@app.route('/classify')\n",
    "def classify():\n",
    "    return render_template('class.html')"
   ]
  },
  {
   "cell_type": "code",
   "execution_count": null,
   "id": "da4a7bda",
   "metadata": {},
   "outputs": [],
   "source": [
    "#定義身體頁面\n",
    "@app.route('/body')\n",
    "def bodyPage():\n",
    "   return render_template('classTemplate.html', title = \"BODY\")"
   ]
  },
  {
   "cell_type": "code",
   "execution_count": null,
   "id": "95f06347",
   "metadata": {},
   "outputs": [],
   "source": [
    "#定義心靈頁面\n",
    "@app.route('/psycho')\n",
    "def psychoPage():\n",
    "   return render_template('classTemplate.html', title = \"PSYCHO\")"
   ]
  },
  {
   "cell_type": "code",
   "execution_count": null,
   "id": "9cd19714",
   "metadata": {},
   "outputs": [],
   "source": [
    "#定義社會頁面\n",
    "@app.route('/social')\n",
    "def socialPage():\n",
    "   return render_template('classTemplate.html', title = \"SOCIAL\")"
   ]
  },
  {
   "cell_type": "code",
   "execution_count": null,
   "id": "807a9b63",
   "metadata": {},
   "outputs": [],
   "source": [
    "#定義特殊頁面\n",
    "@app.route('/special')\n",
    "def specialPage():\n",
    "   return render_template('classTemplate.html', title = \"SPECIAL\")"
   ]
  },
  {
   "cell_type": "code",
   "execution_count": null,
   "id": "3b5d2ce3",
   "metadata": {},
   "outputs": [],
   "source": [
    "#定義其他頁面\n",
    "@app.route('/extra')\n",
    "def extraPage():\n",
    "   return render_template('classTemplate.html', title = \"EXTRA\")"
   ]
  },
  {
   "cell_type": "code",
   "execution_count": 190,
   "id": "3e5b78ff",
   "metadata": {},
   "outputs": [],
   "source": [
    "# 查詢姓名列表\n",
    "@app.route('/fetchNameList', methods=['GET']) \n",
    "def fetchNameList():\n",
    "    try:\n",
    "        # 使用 with 語句管理資料庫連線\n",
    "        with sqlite3.connect(DATABASE) as conn:\n",
    "            cursor = conn.cursor()\n",
    "            cursor.execute(\"SELECT name FROM nameList\")  # 假設表格名稱為 'nameList'，字段名稱為 'name'\n",
    "            names = [row[0] for row in cursor.fetchall()]\n",
    "        return jsonify(names)\n",
    "\n",
    "    except Exception as e:\n",
    "        return jsonify({'error': str(e)}), 500\n"
   ]
  },
  {
   "cell_type": "code",
   "execution_count": 191,
   "id": "4e247031",
   "metadata": {},
   "outputs": [],
   "source": [
    "# 新增姓名到資料庫\n",
    "@app.route('/addName', methods=['POST'])\n",
    "def addName():\n",
    "    try:\n",
    "        data = request.get_json()\n",
    "        new_name = data.get('name')\n",
    "        if not new_name:\n",
    "            return jsonify({'error': 'No name provided'}), 400\n",
    "        \n",
    "        conn = sqlite3.connect(DATABASE)\n",
    "        cursor = conn.cursor()\n",
    "        cursor.execute(\"INSERT INTO nameList (name) VALUES (?)\", (new_name,))\n",
    "        conn.commit()\n",
    "        conn.close()\n",
    "        return jsonify({'success': True}), 200\n",
    "    except Exception as e:\n",
    "        return jsonify({'error': str(e)}), 500"
   ]
  },
  {
   "cell_type": "code",
   "execution_count": null,
   "id": "6c054858",
   "metadata": {
    "tags": []
   },
   "outputs": [
    {
     "name": "stdout",
     "output_type": "stream",
     "text": [
      " * Serving Flask app '__main__'\n",
      " * Debug mode: off\n"
     ]
    },
    {
     "name": "stderr",
     "output_type": "stream",
     "text": [
      "WARNING: This is a development server. Do not use it in a production deployment. Use a production WSGI server instead.\n",
      " * Running on all addresses (0.0.0.0)\n",
      " * Running on http://127.0.0.1:5000\n",
      " * Running on http://192.168.2.103:5000\n",
      "Press CTRL+C to quit\n",
      "127.0.0.1 - - [27/Nov/2024 17:02:31] \"GET /classPage HTTP/1.1\" 404 -\n",
      "127.0.0.1 - - [27/Nov/2024 17:02:32] \"GET /classPage HTTP/1.1\" 404 -\n",
      "127.0.0.1 - - [27/Nov/2024 17:02:32] \"GET /classPage HTTP/1.1\" 404 -\n",
      "127.0.0.1 - - [27/Nov/2024 17:02:32] \"GET /classPage HTTP/1.1\" 404 -\n",
      "127.0.0.1 - - [27/Nov/2024 17:02:35] \"GET /classPage HTTP/1.1\" 404 -\n",
      "127.0.0.1 - - [27/Nov/2024 17:02:35] \"GET /classPage HTTP/1.1\" 404 -\n",
      "127.0.0.1 - - [27/Nov/2024 17:02:53] \"GET /classPage HTTP/1.1\" 404 -\n",
      "127.0.0.1 - - [27/Nov/2024 17:02:54] \"GET /classPage HTTP/1.1\" 404 -\n",
      "127.0.0.1 - - [27/Nov/2024 17:02:57] \"GET /classify HTTP/1.1\" 200 -\n",
      "127.0.0.1 - - [27/Nov/2024 17:02:57] \"GET /static/css/style.css HTTP/1.1\" 304 -\n",
      "127.0.0.1 - - [27/Nov/2024 17:02:57] \"GET /static/js/class.js HTTP/1.1\" 304 -\n",
      "127.0.0.1 - - [27/Nov/2024 17:02:57] \"GET /classify HTTP/1.1\" 200 -\n",
      "127.0.0.1 - - [27/Nov/2024 17:02:59] \"GET /templates/index.html HTTP/1.1\" 404 -\n",
      "127.0.0.1 - - [27/Nov/2024 17:02:59] \"GET /templates/index.html HTTP/1.1\" 404 -\n",
      "127.0.0.1 - - [27/Nov/2024 17:03:22] \"GET /templates/index.html HTTP/1.1\" 404 -\n",
      "127.0.0.1 - - [27/Nov/2024 17:03:22] \"GET /templates/index.html HTTP/1.1\" 404 -\n",
      "127.0.0.1 - - [27/Nov/2024 17:03:25] \"GET / HTTP/1.1\" 200 -\n",
      "127.0.0.1 - - [27/Nov/2024 17:03:25] \"GET /static/css/style.css HTTP/1.1\" 304 -\n",
      "127.0.0.1 - - [27/Nov/2024 17:03:25] \"GET /static/images/profile/01.png HTTP/1.1\" 304 -\n",
      "127.0.0.1 - - [27/Nov/2024 17:03:25] \"GET /static/js/index.js HTTP/1.1\" 200 -\n",
      "127.0.0.1 - - [27/Nov/2024 17:03:25] \"GET / HTTP/1.1\" 200 -\n",
      "127.0.0.1 - - [27/Nov/2024 17:03:39] \"GET /classify HTTP/1.1\" 200 -\n",
      "127.0.0.1 - - [27/Nov/2024 17:03:39] \"GET /static/css/style.css HTTP/1.1\" 304 -\n",
      "127.0.0.1 - - [27/Nov/2024 17:03:39] \"GET /static/js/class.js HTTP/1.1\" 304 -\n",
      "127.0.0.1 - - [27/Nov/2024 17:03:40] \"GET /classify HTTP/1.1\" 200 -\n",
      "127.0.0.1 - - [27/Nov/2024 17:06:55] \"GET /classify HTTP/1.1\" 200 -\n",
      "127.0.0.1 - - [27/Nov/2024 17:06:56] \"GET /templates/index.html HTTP/1.1\" 404 -\n",
      "127.0.0.1 - - [27/Nov/2024 17:06:56] \"GET /templates/index.html HTTP/1.1\" 404 -\n",
      "127.0.0.1 - - [27/Nov/2024 17:06:58] \"GET / HTTP/1.1\" 200 -\n",
      "127.0.0.1 - - [27/Nov/2024 17:06:58] \"GET /static/js/index.js HTTP/1.1\" 304 -\n",
      "127.0.0.1 - - [27/Nov/2024 17:06:58] \"GET /static/css/style.css HTTP/1.1\" 304 -\n",
      "127.0.0.1 - - [27/Nov/2024 17:06:58] \"GET /static/images/profile/01.png HTTP/1.1\" 304 -\n",
      "127.0.0.1 - - [27/Nov/2024 17:06:59] \"GET / HTTP/1.1\" 200 -\n",
      "127.0.0.1 - - [27/Nov/2024 17:07:03] \"GET /classify HTTP/1.1\" 200 -\n",
      "127.0.0.1 - - [27/Nov/2024 17:07:03] \"GET /static/css/style.css HTTP/1.1\" 304 -\n",
      "127.0.0.1 - - [27/Nov/2024 17:07:03] \"GET /static/js/class.js HTTP/1.1\" 200 -\n",
      "127.0.0.1 - - [27/Nov/2024 17:07:03] \"GET /classify HTTP/1.1\" 200 -\n"
     ]
    }
   ],
   "source": [
    "if __name__ == '__main__':\n",
    "    app.run(host='0.0.0.0', port=5000)"
   ]
  }
 ],
 "metadata": {
  "kernelspec": {
   "display_name": "base",
   "language": "python",
   "name": "python3"
  },
  "language_info": {
   "codemirror_mode": {
    "name": "ipython",
    "version": 3
   },
   "file_extension": ".py",
   "mimetype": "text/x-python",
   "name": "python",
   "nbconvert_exporter": "python",
   "pygments_lexer": "ipython3",
   "version": "3.11.7"
  }
 },
 "nbformat": 4,
 "nbformat_minor": 5
}
