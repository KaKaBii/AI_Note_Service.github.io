{
 "cells": [
  {
   "cell_type": "markdown",
   "id": "d4ec79a4",
   "metadata": {
    "tags": []
   },
   "source": [
    "### Install Flask package using pip\n",
    "The exclamation mark '!' is used to execute Linux commands. \n",
    "If the Flask package is installed, you can ignore the cell below."
   ]
  },
  {
   "cell_type": "code",
   "execution_count": 893,
   "id": "8b7c3e6b",
   "metadata": {
    "tags": []
   },
   "outputs": [],
   "source": [
    "#!pip3 install flask"
   ]
  },
  {
   "cell_type": "code",
   "execution_count": 894,
   "id": "d5c0f275",
   "metadata": {},
   "outputs": [],
   "source": [
    "#!pip install --upgrade flask\n"
   ]
  },
  {
   "cell_type": "code",
   "execution_count": 895,
   "id": "93343030",
   "metadata": {},
   "outputs": [],
   "source": [
    "#!pip install watchdog"
   ]
  },
  {
   "cell_type": "code",
   "execution_count": 896,
   "id": "3bd9c2ad",
   "metadata": {
    "tags": []
   },
   "outputs": [],
   "source": [
    "import os\n",
    "import sqlite3\n",
    "from datetime import datetime\n",
    "from livereload import Server\n",
    "from flask import Flask, render_template, request, jsonify"
   ]
  },
  {
   "cell_type": "code",
   "execution_count": 897,
   "id": "5f4d88b7",
   "metadata": {
    "tags": []
   },
   "outputs": [],
   "source": [
    "app = Flask(__name__)"
   ]
  },
  {
   "cell_type": "code",
   "execution_count": 898,
   "id": "59c643e0",
   "metadata": {},
   "outputs": [],
   "source": [
    "# 資料庫路徑\n",
    "DATABASE_FOLDER = os.path.join(app.root_path, 'instance')\n"
   ]
  },
  {
   "cell_type": "code",
   "execution_count": 899,
   "id": "eab6df28",
   "metadata": {},
   "outputs": [],
   "source": [
    "# 確保所有需要的文件夾存在\n",
    "for folder in [DATABASE_FOLDER]:\n",
    "    if not os.path.exists(folder):\n",
    "        os.makedirs(folder)"
   ]
  },
  {
   "cell_type": "code",
   "execution_count": 900,
   "id": "9b75f00d",
   "metadata": {},
   "outputs": [],
   "source": [
    "DATABASE = os.path.join(DATABASE_FOLDER, 'database.db')"
   ]
  },
  {
   "cell_type": "code",
   "execution_count": 901,
   "id": "32ad531e",
   "metadata": {
    "tags": []
   },
   "outputs": [],
   "source": [
    "# 定義根目錄\n",
    "@app.route('/')\n",
    "def index():\n",
    "    return render_template('index.html')"
   ]
  },
  {
   "cell_type": "code",
   "execution_count": 902,
   "id": "9fdb72bb",
   "metadata": {},
   "outputs": [],
   "source": [
    "# 定義分類目錄入口\n",
    "@app.route('/classify')\n",
    "def classify():\n",
    "    return render_template('class.html')"
   ]
  },
  {
   "cell_type": "code",
   "execution_count": 903,
   "id": "da4a7bda",
   "metadata": {},
   "outputs": [],
   "source": [
    "#定義身體頁面\n",
    "@app.route('/body')\n",
    "def bodyPage():\n",
    "   return render_template('classTemplate.html', title = \"BODY\")"
   ]
  },
  {
   "cell_type": "code",
   "execution_count": 904,
   "id": "95f06347",
   "metadata": {},
   "outputs": [],
   "source": [
    "#定義心靈頁面\n",
    "@app.route('/psycho')\n",
    "def psychoPage():\n",
    "   return render_template('classTemplate.html', title = \"PSYCHO\")"
   ]
  },
  {
   "cell_type": "code",
   "execution_count": 905,
   "id": "9cd19714",
   "metadata": {},
   "outputs": [],
   "source": [
    "#定義社會頁面\n",
    "@app.route('/social')\n",
    "def socialPage():\n",
    "   return render_template('classTemplate.html', title = \"SOCIAL\")"
   ]
  },
  {
   "cell_type": "code",
   "execution_count": 906,
   "id": "807a9b63",
   "metadata": {},
   "outputs": [],
   "source": [
    "#定義特殊頁面\n",
    "@app.route('/special')\n",
    "def specialPage():\n",
    "   return render_template('classTemplate.html', title = \"SPECIAL\")"
   ]
  },
  {
   "cell_type": "code",
   "execution_count": 907,
   "id": "3b5d2ce3",
   "metadata": {},
   "outputs": [],
   "source": [
    "#定義其他頁面\n",
    "@app.route('/extra')\n",
    "def extraPage():\n",
    "   return render_template('classTemplate.html', title = \"EXTRA\")"
   ]
  },
  {
   "cell_type": "code",
   "execution_count": 908,
   "id": "3e5b78ff",
   "metadata": {},
   "outputs": [],
   "source": [
    "# 查詢姓名列表\n",
    "@app.route('/fetchNameList', methods=['GET']) \n",
    "def fetchNameList():\n",
    "    try:\n",
    "        # 使用 with 語句管理資料庫連線\n",
    "        with sqlite3.connect(DATABASE) as conn:\n",
    "            cursor = conn.cursor()\n",
    "            cursor.execute(\"SELECT name FROM nameList\")  # 假設表格名稱為 'nameList'，字段名稱為 'name'\n",
    "            names = [row[0] for row in cursor.fetchall()]\n",
    "        return jsonify(names)\n",
    "\n",
    "    except Exception as e:\n",
    "        return jsonify({'error': str(e)}), 500\n"
   ]
  },
  {
   "cell_type": "code",
   "execution_count": 909,
   "id": "4e247031",
   "metadata": {},
   "outputs": [],
   "source": [
    "# 新增姓名到資料庫\n",
    "@app.route('/addName', methods=['POST'])\n",
    "def addName():\n",
    "    try:\n",
    "        data = request.get_json()\n",
    "        new_name = data.get('name')\n",
    "        if not new_name:\n",
    "            return jsonify({'error': 'No name provided'}), 400\n",
    "        \n",
    "        conn = sqlite3.connect(DATABASE)\n",
    "        cursor = conn.cursor()\n",
    "        cursor.execute(\"INSERT INTO nameList (name) VALUES (?)\", (new_name,))\n",
    "        conn.commit()\n",
    "        conn.close()\n",
    "        return jsonify({'success': True}), 200\n",
    "    except Exception as e:\n",
    "        return jsonify({'error': str(e)}), 500"
   ]
  },
  {
   "cell_type": "code",
   "execution_count": 910,
   "metadata": {},
   "outputs": [],
   "source": [
    "# 查詢指定人名的逐字稿\n",
    "@app.route('/fetchTranscripts', methods=['GET'])\n",
    "def fetchTranscripts():\n",
    "    person = request.args.get('person')  # 從請求中獲取人名參數\n",
    "    if not person:\n",
    "        return jsonify({'error': 'No person provided'}), 400\n",
    "\n",
    "    try:\n",
    "        conn = sqlite3.connect(DATABASE)\n",
    "        cursor = conn.cursor()\n",
    "        # 根據名稱查詢逐字稿\n",
    "        cursor.execute(\"SELECT content, timestamp FROM transcripts WHERE name = ? ORDER BY timestamp DESC\", (person,))\n",
    "        rows = cursor.fetchall()\n",
    "        transcripts = [{'content': row[0], 'timestamp': row[1]} for row in rows]\n",
    "        conn.close()\n",
    "        app.logger.info(f'Transcripts fetched for {person}: {transcripts}')\n",
    "\n",
    "        return jsonify(transcripts)\n",
    "\n",
    "    except Exception as e:\n",
    "        return jsonify({'error': str(e)}), 500"
   ]
  },
  {
   "cell_type": "code",
   "execution_count": 911,
   "id": "ea38da53",
   "metadata": {},
   "outputs": [],
   "source": [
    "# 新增指定人名的逐字稿\n",
    "@app.route('/uploadTranscript', methods=['POST'])\n",
    "def uploadTranscript():\n",
    "    data = request.get_json()\n",
    "    name = data.get('name')\n",
    "    content = data.get('content')\n",
    "    timestamp = datetime.now().strftime('%Y-%m-%d %H:%M:%S')\n",
    "\n",
    "    if not name or not content:\n",
    "        app.logger.error('Name or content is missing in the request')\n",
    "        return jsonify({'error': 'Name or content is missing'}), 400\n",
    "\n",
    "    try:\n",
    "        conn = sqlite3.connect(DATABASE)\n",
    "        cursor = conn.cursor()\n",
    "        cursor.execute(\"INSERT INTO transcripts (name, content, timestamp) VALUES (?, ?, ?)\", (name, content, timestamp))\n",
    "        conn.commit()\n",
    "        conn.close()\n",
    "        app.logger.info(f'Transcript uploaded for {name} at {timestamp}')\n",
    "        return jsonify({'message': 'Transcript uploaded successfully'}), 200\n",
    "    except Exception as e:\n",
    "        app.logger.error(f'Error uploading transcript for {name}: {e}')\n",
    "        return jsonify({'error': str(e)}), 500"
   ]
  },
  {
   "cell_type": "code",
   "execution_count": 912,
   "id": "5075119e",
   "metadata": {},
   "outputs": [],
   "source": [
    "# 編輯指定人名的逐字稿\n",
    "@app.route('/editTranscript', methods=['POST'])\n",
    "def editTranscript():\n",
    "    data = request.get_json()\n",
    "    timestamp = data.get('timestamp')\n",
    "    new_content = data.get('newContent')\n",
    "\n",
    "    if not timestamp or not new_content:\n",
    "        app.logger.error('Timestamp or new content is missing in the request')\n",
    "        return jsonify({'error': 'Timestamp or new content is missing'}), 400\n",
    "\n",
    "    try:\n",
    "        conn = sqlite3.connect(DATABASE)\n",
    "        cursor = conn.cursor()\n",
    "        cursor.execute(\"UPDATE transcripts SET content = ? WHERE timestamp = ?\", (new_content, timestamp))\n",
    "        conn.commit()\n",
    "        conn.close()\n",
    "        app.logger.info(f'Transcript edited at {timestamp}')\n",
    "        return jsonify({'message': 'Transcript edited successfully'}), 200\n",
    "    except Exception as e:\n",
    "        app.logger.error(f'Error editing transcript at {timestamp}: {e}')\n",
    "        return jsonify({'error': str(e)}), 500"
   ]
  },
  {
   "cell_type": "code",
   "execution_count": 913,
   "id": "505442b6",
   "metadata": {},
   "outputs": [],
   "source": [
    "# 刪除指定人名的逐字稿\n",
    "@app.route('/deleteTranscript', methods=['POST'])\n",
    "def deleteTranscript():\n",
    "    data = request.get_json()\n",
    "    timestamp = data.get('timestamp')\n",
    "\n",
    "    if not timestamp:\n",
    "        app.logger.error('Timestamp is missing in the request')\n",
    "        return jsonify({'error': 'Timestamp is missing'}), 400\n",
    "\n",
    "    try:\n",
    "        conn = sqlite3.connect(DATABASE)\n",
    "        cursor = conn.cursor()\n",
    "        cursor.execute(\"DELETE FROM transcripts WHERE timestamp = ?\", (timestamp,))\n",
    "        conn.commit()\n",
    "        conn.close()\n",
    "        app.logger.info(f'Transcript deleted at {timestamp}')\n",
    "        return jsonify({'message': 'Transcript deleted successfully'}), 200\n",
    "    except Exception as e:\n",
    "        app.logger.error(f'Error deleting transcript at {timestamp}: {e}')\n",
    "        return jsonify({'error': str(e)}), 500"
   ]
  },
  {
   "cell_type": "code",
   "execution_count": null,
   "id": "6c054858",
   "metadata": {
    "tags": []
   },
   "outputs": [
    {
     "name": "stdout",
     "output_type": "stream",
     "text": [
      " * Serving Flask app '__main__'\n",
      " * Debug mode: off\n"
     ]
    },
    {
     "name": "stderr",
     "output_type": "stream",
     "text": [
      "WARNING: This is a development server. Do not use it in a production deployment. Use a production WSGI server instead.\n",
      " * Running on all addresses (0.0.0.0)\n",
      " * Running on http://127.0.0.1:5000\n",
      " * Running on http://172.16.0.18:5000\n",
      "Press CTRL+C to quit\n",
      "127.0.0.1 - - [27/Nov/2024 21:17:14] \"GET / HTTP/1.1\" 200 -\n",
      "127.0.0.1 - - [27/Nov/2024 21:17:14] \"GET /static/images/profile/01.png HTTP/1.1\" 304 -\n",
      "127.0.0.1 - - [27/Nov/2024 21:17:14] \"GET /static/js/index.js HTTP/1.1\" 304 -\n",
      "127.0.0.1 - - [27/Nov/2024 21:17:14] \"GET /static/css/style.css HTTP/1.1\" 200 -\n",
      "127.0.0.1 - - [27/Nov/2024 21:17:14] \"GET /fetchTranscripts?person=張偉 HTTP/1.1\" 200 -\n",
      "127.0.0.1 - - [27/Nov/2024 21:17:14] \"GET / HTTP/1.1\" 200 -\n",
      "127.0.0.1 - - [27/Nov/2024 21:17:23] \"GET / HTTP/1.1\" 200 -\n",
      "127.0.0.1 - - [27/Nov/2024 21:17:23] \"GET /static/js/index.js HTTP/1.1\" 304 -\n",
      "127.0.0.1 - - [27/Nov/2024 21:17:23] \"GET /static/css/style.css HTTP/1.1\" 200 -\n",
      "127.0.0.1 - - [27/Nov/2024 21:17:23] \"GET /static/images/profile/01.png HTTP/1.1\" 304 -\n",
      "127.0.0.1 - - [27/Nov/2024 21:17:23] \"GET /fetchTranscripts?person=張偉 HTTP/1.1\" 200 -\n",
      "127.0.0.1 - - [27/Nov/2024 21:17:23] \"GET / HTTP/1.1\" 200 -\n",
      "127.0.0.1 - - [27/Nov/2024 21:17:58] \"GET / HTTP/1.1\" 200 -\n",
      "127.0.0.1 - - [27/Nov/2024 21:17:58] \"GET /static/images/profile/01.png HTTP/1.1\" 304 -\n",
      "127.0.0.1 - - [27/Nov/2024 21:17:58] \"GET /static/js/index.js HTTP/1.1\" 304 -\n",
      "127.0.0.1 - - [27/Nov/2024 21:17:58] \"GET /static/css/style.css HTTP/1.1\" 200 -\n",
      "127.0.0.1 - - [27/Nov/2024 21:17:58] \"GET /fetchTranscripts?person=張偉 HTTP/1.1\" 200 -\n",
      "127.0.0.1 - - [27/Nov/2024 21:17:59] \"GET / HTTP/1.1\" 200 -\n",
      "127.0.0.1 - - [27/Nov/2024 21:18:11] \"GET / HTTP/1.1\" 200 -\n",
      "127.0.0.1 - - [27/Nov/2024 21:18:11] \"GET /static/images/profile/01.png HTTP/1.1\" 304 -\n",
      "127.0.0.1 - - [27/Nov/2024 21:18:11] \"GET /static/js/index.js HTTP/1.1\" 304 -\n",
      "127.0.0.1 - - [27/Nov/2024 21:18:11] \"GET /static/css/style.css HTTP/1.1\" 200 -\n",
      "127.0.0.1 - - [27/Nov/2024 21:18:11] \"GET /fetchTranscripts?person=張偉 HTTP/1.1\" 200 -\n",
      "127.0.0.1 - - [27/Nov/2024 21:18:11] \"GET / HTTP/1.1\" 200 -\n",
      "127.0.0.1 - - [27/Nov/2024 21:18:25] \"GET / HTTP/1.1\" 200 -\n",
      "127.0.0.1 - - [27/Nov/2024 21:18:25] \"GET /static/images/profile/01.png HTTP/1.1\" 304 -\n",
      "127.0.0.1 - - [27/Nov/2024 21:18:25] \"GET /static/css/style.css HTTP/1.1\" 200 -\n",
      "127.0.0.1 - - [27/Nov/2024 21:18:25] \"GET /static/js/index.js HTTP/1.1\" 304 -\n",
      "127.0.0.1 - - [27/Nov/2024 21:18:25] \"GET /fetchTranscripts?person=張偉 HTTP/1.1\" 200 -\n",
      "127.0.0.1 - - [27/Nov/2024 21:18:25] \"GET / HTTP/1.1\" 200 -\n",
      "127.0.0.1 - - [27/Nov/2024 21:18:52] \"GET / HTTP/1.1\" 200 -\n",
      "127.0.0.1 - - [27/Nov/2024 21:18:52] \"GET /static/images/profile/01.png HTTP/1.1\" 304 -\n",
      "127.0.0.1 - - [27/Nov/2024 21:18:52] \"GET /static/js/index.js HTTP/1.1\" 304 -\n",
      "127.0.0.1 - - [27/Nov/2024 21:18:52] \"GET /static/css/style.css HTTP/1.1\" 200 -\n",
      "127.0.0.1 - - [27/Nov/2024 21:18:52] \"GET /fetchTranscripts?person=張偉 HTTP/1.1\" 200 -\n",
      "127.0.0.1 - - [27/Nov/2024 21:18:52] \"GET / HTTP/1.1\" 200 -\n",
      "127.0.0.1 - - [27/Nov/2024 21:19:06] \"GET / HTTP/1.1\" 200 -\n",
      "127.0.0.1 - - [27/Nov/2024 21:19:06] \"GET /static/images/profile/01.png HTTP/1.1\" 304 -\n",
      "127.0.0.1 - - [27/Nov/2024 21:19:06] \"GET /static/js/index.js HTTP/1.1\" 304 -\n",
      "127.0.0.1 - - [27/Nov/2024 21:19:06] \"GET /static/css/style.css HTTP/1.1\" 200 -\n",
      "127.0.0.1 - - [27/Nov/2024 21:19:06] \"GET /fetchTranscripts?person=張偉 HTTP/1.1\" 200 -\n",
      "127.0.0.1 - - [27/Nov/2024 21:19:07] \"GET / HTTP/1.1\" 200 -\n",
      "127.0.0.1 - - [27/Nov/2024 21:19:20] \"GET / HTTP/1.1\" 200 -\n",
      "127.0.0.1 - - [27/Nov/2024 21:19:20] \"GET /static/images/profile/01.png HTTP/1.1\" 304 -\n",
      "127.0.0.1 - - [27/Nov/2024 21:19:20] \"GET /static/js/index.js HTTP/1.1\" 304 -\n",
      "127.0.0.1 - - [27/Nov/2024 21:19:20] \"GET /static/css/style.css HTTP/1.1\" 200 -\n",
      "127.0.0.1 - - [27/Nov/2024 21:19:20] \"GET /fetchTranscripts?person=張偉 HTTP/1.1\" 200 -\n",
      "127.0.0.1 - - [27/Nov/2024 21:19:21] \"GET / HTTP/1.1\" 200 -\n",
      "127.0.0.1 - - [27/Nov/2024 21:19:29] \"GET / HTTP/1.1\" 200 -\n",
      "127.0.0.1 - - [27/Nov/2024 21:19:29] \"GET /static/images/profile/01.png HTTP/1.1\" 304 -\n",
      "127.0.0.1 - - [27/Nov/2024 21:19:29] \"GET /static/js/index.js HTTP/1.1\" 304 -\n",
      "127.0.0.1 - - [27/Nov/2024 21:19:29] \"GET /static/css/style.css HTTP/1.1\" 200 -\n",
      "127.0.0.1 - - [27/Nov/2024 21:19:29] \"GET /fetchTranscripts?person=張偉 HTTP/1.1\" 200 -\n",
      "127.0.0.1 - - [27/Nov/2024 21:19:29] \"GET / HTTP/1.1\" 200 -\n",
      "127.0.0.1 - - [27/Nov/2024 21:19:47] \"GET / HTTP/1.1\" 200 -\n",
      "127.0.0.1 - - [27/Nov/2024 21:19:47] \"GET /static/images/profile/01.png HTTP/1.1\" 304 -\n",
      "127.0.0.1 - - [27/Nov/2024 21:19:47] \"GET /static/js/index.js HTTP/1.1\" 304 -\n",
      "127.0.0.1 - - [27/Nov/2024 21:19:47] \"GET /static/css/style.css HTTP/1.1\" 200 -\n",
      "127.0.0.1 - - [27/Nov/2024 21:19:47] \"GET /fetchTranscripts?person=張偉 HTTP/1.1\" 200 -\n",
      "127.0.0.1 - - [27/Nov/2024 21:19:47] \"GET / HTTP/1.1\" 200 -\n",
      "127.0.0.1 - - [27/Nov/2024 21:19:55] \"GET / HTTP/1.1\" 200 -\n",
      "127.0.0.1 - - [27/Nov/2024 21:19:55] \"GET /static/images/profile/01.png HTTP/1.1\" 304 -\n",
      "127.0.0.1 - - [27/Nov/2024 21:19:55] \"GET /static/js/index.js HTTP/1.1\" 304 -\n",
      "127.0.0.1 - - [27/Nov/2024 21:19:55] \"GET /static/css/style.css HTTP/1.1\" 200 -\n",
      "127.0.0.1 - - [27/Nov/2024 21:19:55] \"GET /fetchTranscripts?person=張偉 HTTP/1.1\" 200 -\n",
      "127.0.0.1 - - [27/Nov/2024 21:19:55] \"GET / HTTP/1.1\" 200 -\n",
      "127.0.0.1 - - [27/Nov/2024 21:20:02] \"GET / HTTP/1.1\" 200 -\n",
      "127.0.0.1 - - [27/Nov/2024 21:20:02] \"GET /static/images/profile/01.png HTTP/1.1\" 304 -\n",
      "127.0.0.1 - - [27/Nov/2024 21:20:02] \"GET /static/js/index.js HTTP/1.1\" 304 -\n",
      "127.0.0.1 - - [27/Nov/2024 21:20:02] \"GET /static/css/style.css HTTP/1.1\" 200 -\n",
      "127.0.0.1 - - [27/Nov/2024 21:20:02] \"GET /fetchTranscripts?person=張偉 HTTP/1.1\" 200 -\n",
      "127.0.0.1 - - [27/Nov/2024 21:20:02] \"GET / HTTP/1.1\" 200 -\n",
      "127.0.0.1 - - [27/Nov/2024 21:20:11] \"GET / HTTP/1.1\" 200 -\n",
      "127.0.0.1 - - [27/Nov/2024 21:20:11] \"GET /static/images/profile/01.png HTTP/1.1\" 304 -\n",
      "127.0.0.1 - - [27/Nov/2024 21:20:11] \"GET /static/js/index.js HTTP/1.1\" 304 -\n",
      "127.0.0.1 - - [27/Nov/2024 21:20:11] \"GET /static/css/style.css HTTP/1.1\" 200 -\n",
      "127.0.0.1 - - [27/Nov/2024 21:20:11] \"GET /fetchTranscripts?person=張偉 HTTP/1.1\" 200 -\n",
      "127.0.0.1 - - [27/Nov/2024 21:20:11] \"GET / HTTP/1.1\" 200 -\n",
      "127.0.0.1 - - [27/Nov/2024 21:20:18] \"GET / HTTP/1.1\" 200 -\n",
      "127.0.0.1 - - [27/Nov/2024 21:20:18] \"GET /static/images/profile/01.png HTTP/1.1\" 304 -\n",
      "127.0.0.1 - - [27/Nov/2024 21:20:18] \"GET /static/js/index.js HTTP/1.1\" 304 -\n",
      "127.0.0.1 - - [27/Nov/2024 21:20:18] \"GET /static/css/style.css HTTP/1.1\" 200 -\n",
      "127.0.0.1 - - [27/Nov/2024 21:20:18] \"GET /fetchTranscripts?person=張偉 HTTP/1.1\" 200 -\n",
      "127.0.0.1 - - [27/Nov/2024 21:20:18] \"GET / HTTP/1.1\" 200 -\n",
      "127.0.0.1 - - [27/Nov/2024 21:20:31] \"POST /uploadTranscript?name=張偉 HTTP/1.1\" 200 -\n",
      "127.0.0.1 - - [27/Nov/2024 21:20:32] \"GET /fetchTranscripts?person=張偉 HTTP/1.1\" 200 -\n",
      "127.0.0.1 - - [27/Nov/2024 21:21:07] \"POST /deleteTranscript HTTP/1.1\" 200 -\n",
      "127.0.0.1 - - [27/Nov/2024 21:21:08] \"GET /fetchTranscripts?person=張偉 HTTP/1.1\" 200 -\n",
      "127.0.0.1 - - [27/Nov/2024 21:21:13] \"POST /uploadTranscript?name=張偉 HTTP/1.1\" 200 -\n",
      "127.0.0.1 - - [27/Nov/2024 21:21:15] \"GET /fetchTranscripts?person=張偉 HTTP/1.1\" 200 -\n",
      "127.0.0.1 - - [27/Nov/2024 21:22:44] \"GET / HTTP/1.1\" 200 -\n",
      "127.0.0.1 - - [27/Nov/2024 21:22:44] \"GET /static/images/profile/01.png HTTP/1.1\" 304 -\n",
      "127.0.0.1 - - [27/Nov/2024 21:22:44] \"GET /static/js/index.js HTTP/1.1\" 304 -\n",
      "127.0.0.1 - - [27/Nov/2024 21:22:45] \"GET /static/css/style.css HTTP/1.1\" 200 -\n",
      "127.0.0.1 - - [27/Nov/2024 21:22:45] \"GET /fetchTranscripts?person=張偉 HTTP/1.1\" 200 -\n",
      "127.0.0.1 - - [27/Nov/2024 21:22:45] \"GET / HTTP/1.1\" 200 -\n",
      "127.0.0.1 - - [27/Nov/2024 21:24:15] \"GET / HTTP/1.1\" 200 -\n",
      "127.0.0.1 - - [27/Nov/2024 21:24:15] \"GET /static/images/profile/01.png HTTP/1.1\" 304 -\n",
      "127.0.0.1 - - [27/Nov/2024 21:24:15] \"GET /static/js/index.js HTTP/1.1\" 304 -\n",
      "127.0.0.1 - - [27/Nov/2024 21:24:15] \"GET /static/css/style.css HTTP/1.1\" 200 -\n",
      "127.0.0.1 - - [27/Nov/2024 21:24:15] \"GET /fetchTranscripts?person=張偉 HTTP/1.1\" 200 -\n",
      "127.0.0.1 - - [27/Nov/2024 21:24:16] \"GET / HTTP/1.1\" 200 -\n",
      "127.0.0.1 - - [27/Nov/2024 21:24:50] \"GET / HTTP/1.1\" 200 -\n",
      "127.0.0.1 - - [27/Nov/2024 21:24:50] \"GET /static/images/profile/01.png HTTP/1.1\" 304 -\n",
      "127.0.0.1 - - [27/Nov/2024 21:24:50] \"GET /static/js/index.js HTTP/1.1\" 304 -\n",
      "127.0.0.1 - - [27/Nov/2024 21:24:50] \"GET /static/css/style.css HTTP/1.1\" 200 -\n",
      "127.0.0.1 - - [27/Nov/2024 21:24:50] \"GET /fetchTranscripts?person=張偉 HTTP/1.1\" 200 -\n",
      "127.0.0.1 - - [27/Nov/2024 21:24:50] \"GET / HTTP/1.1\" 200 -\n",
      "127.0.0.1 - - [27/Nov/2024 21:26:50] \"GET / HTTP/1.1\" 200 -\n",
      "127.0.0.1 - - [27/Nov/2024 21:26:50] \"GET /static/images/profile/01.png HTTP/1.1\" 304 -\n",
      "127.0.0.1 - - [27/Nov/2024 21:26:50] \"GET /static/js/index.js HTTP/1.1\" 304 -\n",
      "127.0.0.1 - - [27/Nov/2024 21:26:50] \"GET /static/css/style.css HTTP/1.1\" 200 -\n",
      "127.0.0.1 - - [27/Nov/2024 21:26:51] \"GET /fetchTranscripts?person=張偉 HTTP/1.1\" 200 -\n",
      "127.0.0.1 - - [27/Nov/2024 21:26:51] \"GET / HTTP/1.1\" 200 -\n",
      "127.0.0.1 - - [27/Nov/2024 21:29:43] \"GET / HTTP/1.1\" 200 -\n",
      "127.0.0.1 - - [27/Nov/2024 21:29:43] \"GET /static/images/profile/01.png HTTP/1.1\" 304 -\n",
      "127.0.0.1 - - [27/Nov/2024 21:29:43] \"GET /static/js/index.js HTTP/1.1\" 304 -\n",
      "127.0.0.1 - - [27/Nov/2024 21:29:43] \"GET /static/css/style.css HTTP/1.1\" 200 -\n",
      "127.0.0.1 - - [27/Nov/2024 21:29:43] \"GET /fetchTranscripts?person=張偉 HTTP/1.1\" 200 -\n",
      "127.0.0.1 - - [27/Nov/2024 21:29:43] \"GET / HTTP/1.1\" 200 -\n",
      "127.0.0.1 - - [27/Nov/2024 21:32:14] \"GET / HTTP/1.1\" 200 -\n",
      "127.0.0.1 - - [27/Nov/2024 21:32:14] \"GET /static/images/profile/01.png HTTP/1.1\" 304 -\n",
      "127.0.0.1 - - [27/Nov/2024 21:32:14] \"GET /static/js/index.js HTTP/1.1\" 304 -\n",
      "127.0.0.1 - - [27/Nov/2024 21:32:14] \"GET /static/css/style.css HTTP/1.1\" 200 -\n",
      "127.0.0.1 - - [27/Nov/2024 21:32:14] \"GET /fetchTranscripts?person=張偉 HTTP/1.1\" 200 -\n",
      "127.0.0.1 - - [27/Nov/2024 21:32:14] \"GET / HTTP/1.1\" 200 -\n",
      "127.0.0.1 - - [27/Nov/2024 21:34:17] \"GET / HTTP/1.1\" 200 -\n",
      "127.0.0.1 - - [27/Nov/2024 21:34:18] \"GET /static/images/profile/01.png HTTP/1.1\" 304 -\n",
      "127.0.0.1 - - [27/Nov/2024 21:34:18] \"GET /static/js/index.js HTTP/1.1\" 304 -\n",
      "127.0.0.1 - - [27/Nov/2024 21:34:18] \"GET /static/css/style.css HTTP/1.1\" 200 -\n",
      "127.0.0.1 - - [27/Nov/2024 21:34:18] \"GET /fetchTranscripts?person=張偉 HTTP/1.1\" 200 -\n",
      "127.0.0.1 - - [27/Nov/2024 21:34:18] \"GET / HTTP/1.1\" 200 -\n",
      "127.0.0.1 - - [27/Nov/2024 21:35:11] \"GET / HTTP/1.1\" 200 -\n",
      "127.0.0.1 - - [27/Nov/2024 21:35:11] \"GET /static/images/profile/01.png HTTP/1.1\" 304 -\n",
      "127.0.0.1 - - [27/Nov/2024 21:35:11] \"GET /static/js/index.js HTTP/1.1\" 304 -\n",
      "127.0.0.1 - - [27/Nov/2024 21:35:11] \"GET /static/css/style.css HTTP/1.1\" 200 -\n",
      "127.0.0.1 - - [27/Nov/2024 21:35:11] \"GET /fetchTranscripts?person=張偉 HTTP/1.1\" 200 -\n",
      "127.0.0.1 - - [27/Nov/2024 21:35:11] \"GET / HTTP/1.1\" 200 -\n",
      "127.0.0.1 - - [27/Nov/2024 21:35:23] \"GET / HTTP/1.1\" 200 -\n",
      "127.0.0.1 - - [27/Nov/2024 21:35:23] \"GET /static/images/profile/01.png HTTP/1.1\" 304 -\n",
      "127.0.0.1 - - [27/Nov/2024 21:35:23] \"GET /static/js/index.js HTTP/1.1\" 304 -\n",
      "127.0.0.1 - - [27/Nov/2024 21:35:23] \"GET /static/css/style.css HTTP/1.1\" 200 -\n",
      "127.0.0.1 - - [27/Nov/2024 21:35:23] \"GET /fetchTranscripts?person=張偉 HTTP/1.1\" 200 -\n",
      "127.0.0.1 - - [27/Nov/2024 21:35:24] \"GET / HTTP/1.1\" 200 -\n",
      "127.0.0.1 - - [27/Nov/2024 21:35:42] \"GET / HTTP/1.1\" 200 -\n",
      "127.0.0.1 - - [27/Nov/2024 21:35:42] \"GET /static/images/profile/01.png HTTP/1.1\" 304 -\n",
      "127.0.0.1 - - [27/Nov/2024 21:35:42] \"GET /static/js/index.js HTTP/1.1\" 304 -\n",
      "127.0.0.1 - - [27/Nov/2024 21:35:42] \"GET /static/css/style.css HTTP/1.1\" 200 -\n",
      "127.0.0.1 - - [27/Nov/2024 21:35:42] \"GET /fetchTranscripts?person=張偉 HTTP/1.1\" 200 -\n",
      "127.0.0.1 - - [27/Nov/2024 21:35:42] \"GET / HTTP/1.1\" 200 -\n",
      "127.0.0.1 - - [27/Nov/2024 21:35:51] \"GET / HTTP/1.1\" 200 -\n",
      "127.0.0.1 - - [27/Nov/2024 21:35:51] \"GET /static/images/profile/01.png HTTP/1.1\" 304 -\n",
      "127.0.0.1 - - [27/Nov/2024 21:35:51] \"GET /static/js/index.js HTTP/1.1\" 304 -\n",
      "127.0.0.1 - - [27/Nov/2024 21:35:52] \"GET /static/css/style.css HTTP/1.1\" 200 -\n",
      "127.0.0.1 - - [27/Nov/2024 21:35:52] \"GET /fetchTranscripts?person=張偉 HTTP/1.1\" 200 -\n",
      "127.0.0.1 - - [27/Nov/2024 21:35:52] \"GET / HTTP/1.1\" 200 -\n",
      "127.0.0.1 - - [27/Nov/2024 21:36:06] \"GET / HTTP/1.1\" 200 -\n",
      "127.0.0.1 - - [27/Nov/2024 21:36:06] \"GET /static/images/profile/01.png HTTP/1.1\" 304 -\n",
      "127.0.0.1 - - [27/Nov/2024 21:36:06] \"GET /static/js/index.js HTTP/1.1\" 304 -\n",
      "127.0.0.1 - - [27/Nov/2024 21:36:06] \"GET /static/css/style.css HTTP/1.1\" 200 -\n",
      "127.0.0.1 - - [27/Nov/2024 21:36:06] \"GET /fetchTranscripts?person=張偉 HTTP/1.1\" 200 -\n",
      "127.0.0.1 - - [27/Nov/2024 21:36:06] \"GET / HTTP/1.1\" 200 -\n",
      "127.0.0.1 - - [27/Nov/2024 21:36:20] \"GET / HTTP/1.1\" 200 -\n",
      "127.0.0.1 - - [27/Nov/2024 21:36:20] \"GET /static/images/profile/01.png HTTP/1.1\" 304 -\n",
      "127.0.0.1 - - [27/Nov/2024 21:36:20] \"GET /static/js/index.js HTTP/1.1\" 304 -\n",
      "127.0.0.1 - - [27/Nov/2024 21:36:20] \"GET /static/css/style.css HTTP/1.1\" 200 -\n",
      "127.0.0.1 - - [27/Nov/2024 21:36:20] \"GET /fetchTranscripts?person=張偉 HTTP/1.1\" 200 -\n",
      "127.0.0.1 - - [27/Nov/2024 21:36:21] \"GET / HTTP/1.1\" 200 -\n",
      "127.0.0.1 - - [27/Nov/2024 21:36:33] \"GET / HTTP/1.1\" 200 -\n",
      "127.0.0.1 - - [27/Nov/2024 21:36:33] \"GET /static/images/profile/01.png HTTP/1.1\" 304 -\n",
      "127.0.0.1 - - [27/Nov/2024 21:36:33] \"GET /static/js/index.js HTTP/1.1\" 304 -\n",
      "127.0.0.1 - - [27/Nov/2024 21:36:33] \"GET /static/css/style.css HTTP/1.1\" 200 -\n",
      "127.0.0.1 - - [27/Nov/2024 21:36:33] \"GET /fetchTranscripts?person=張偉 HTTP/1.1\" 200 -\n",
      "127.0.0.1 - - [27/Nov/2024 21:36:33] \"GET / HTTP/1.1\" 200 -\n"
     ]
    }
   ],
   "source": [
    "if __name__ == '__main__':\n",
    "    app.run(host='0.0.0.0', port=5000)"
   ]
  }
 ],
 "metadata": {
  "kernelspec": {
   "display_name": "base",
   "language": "python",
   "name": "python3"
  },
  "language_info": {
   "codemirror_mode": {
    "name": "ipython",
    "version": 3
   },
   "file_extension": ".py",
   "mimetype": "text/x-python",
   "name": "python",
   "nbconvert_exporter": "python",
   "pygments_lexer": "ipython3",
   "version": "3.11.7"
  }
 },
 "nbformat": 4,
 "nbformat_minor": 5
}
