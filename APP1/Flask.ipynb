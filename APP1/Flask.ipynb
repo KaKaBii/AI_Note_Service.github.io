{
 "cells": [
  {
   "cell_type": "markdown",
   "id": "d4ec79a4",
   "metadata": {
    "tags": []
   },
   "source": [
    "### Install Flask package using pip\n",
    "The exclamation mark '!' is used to execute Linux commands. \n",
    "If the Flask package is installed, you can ignore the cell below."
   ]
  },
  {
   "cell_type": "code",
   "execution_count": 1,
   "id": "8b7c3e6b",
   "metadata": {
    "tags": []
   },
   "outputs": [],
   "source": [
    "#!pip3 install flask"
   ]
  },
  {
   "cell_type": "code",
   "execution_count": 2,
   "id": "d5c0f275",
   "metadata": {},
   "outputs": [],
   "source": [
    "#!pip install --upgrade flask\n"
   ]
  },
  {
   "cell_type": "code",
   "execution_count": 3,
   "id": "93343030",
   "metadata": {},
   "outputs": [],
   "source": [
    "#!pip install watchdog"
   ]
  },
  {
   "cell_type": "code",
   "execution_count": 4,
   "id": "c137df1b",
   "metadata": {},
   "outputs": [],
   "source": [
    "#!pip install ailabs_asr"
   ]
  },
  {
   "cell_type": "code",
   "execution_count": 5,
   "id": "3504fd1c",
   "metadata": {},
   "outputs": [],
   "source": [
    "#!pip install pydub"
   ]
  },
  {
   "cell_type": "code",
   "execution_count": 6,
   "id": "3bd9c2ad",
   "metadata": {
    "tags": []
   },
   "outputs": [
    {
     "name": "stderr",
     "output_type": "stream",
     "text": [
      "/opt/conda/lib/python3.11/site-packages/pydub/utils.py:170: RuntimeWarning: Couldn't find ffmpeg or avconv - defaulting to ffmpeg, but may not work\n",
      "  warn(\"Couldn't find ffmpeg or avconv - defaulting to ffmpeg, but may not work\", RuntimeWarning)\n"
     ]
    }
   ],
   "source": [
    "#  環境依賴\n",
    "import os\n",
    "import gc\n",
    "import sqlite3\n",
    "import uuid\n",
    "from datetime import datetime\n",
    "from werkzeug.utils import secure_filename\n",
    "from pydub import AudioSegment\n",
    "from ailabs_asr.streaming import StreamingClient \n",
    "from flask import Flask, render_template, request, jsonify\n",
    "from classification import GPT_classification"
   ]
  },
  {
   "cell_type": "code",
   "execution_count": 7,
   "id": "5f4d88b7",
   "metadata": {
    "tags": []
   },
   "outputs": [],
   "source": [
    "app = Flask(__name__)"
   ]
  },
  {
   "cell_type": "code",
   "execution_count": 8,
   "id": "59c643e0",
   "metadata": {},
   "outputs": [],
   "source": [
    "# 資料路徑設定\n",
    "DATABASE_FOLDER = os.path.join(app.root_path, 'instance')\n",
    "UPLOAD_FOLDER = os.path.join(app.root_path, 'uploads')\n",
    "\n",
    "DATABASE = os.path.join(DATABASE_FOLDER, 'database.db')"
   ]
  },
  {
   "cell_type": "code",
   "execution_count": 9,
   "id": "f63375d2",
   "metadata": {},
   "outputs": [],
   "source": [
    "# 設定允許的檔案類型\n",
    "ALLOWED_EXTENSIONS = {'mp3', 'aac', 'flac', 'ogg', 'wav', 'm4a'}\n",
    "\n",
    "def allowed_file(filename):\n",
    "    return '.' in filename and filename.rsplit('.', 1)[1].lower() in ALLOWED_EXTENSIONS"
   ]
  },
  {
   "cell_type": "code",
   "execution_count": 10,
   "id": "eab6df28",
   "metadata": {},
   "outputs": [],
   "source": [
    "# 確保所有需要的文件夾存在\n",
    "for folder in [DATABASE_FOLDER, UPLOAD_FOLDER]:\n",
    "    if not os.path.exists(folder):\n",
    "        os.makedirs(folder)"
   ]
  },
  {
   "cell_type": "code",
   "execution_count": 11,
   "id": "32ad531e",
   "metadata": {
    "tags": []
   },
   "outputs": [],
   "source": [
    "# 定義根目錄\n",
    "@app.route('/')\n",
    "def index():\n",
    "    return render_template('index.html')"
   ]
  },
  {
   "cell_type": "code",
   "execution_count": 12,
   "id": "9fdb72bb",
   "metadata": {},
   "outputs": [],
   "source": [
    "# 定義分類目錄入口\n",
    "@app.route('/classify')\n",
    "def classify():\n",
    "    return render_template('class.html')"
   ]
  },
  {
   "cell_type": "code",
   "execution_count": 13,
   "id": "da4a7bda",
   "metadata": {},
   "outputs": [],
   "source": [
    "#定義身體頁面\n",
    "@app.route('/body')\n",
    "def bodyPage():\n",
    "   return render_template('classTemplate.html', title = \"BODY\")"
   ]
  },
  {
   "cell_type": "code",
   "execution_count": 14,
   "id": "95f06347",
   "metadata": {},
   "outputs": [],
   "source": [
    "#定義心靈頁面\n",
    "@app.route('/psycho')\n",
    "def psychoPage():\n",
    "   return render_template('classTemplate.html', title = \"PSYCHO\")"
   ]
  },
  {
   "cell_type": "code",
   "execution_count": 15,
   "id": "9cd19714",
   "metadata": {},
   "outputs": [],
   "source": [
    "#定義社會頁面\n",
    "@app.route('/social')\n",
    "def socialPage():\n",
    "   return render_template('classTemplate.html', title = \"SOCIAL\")"
   ]
  },
  {
   "cell_type": "code",
   "execution_count": 16,
   "id": "807a9b63",
   "metadata": {},
   "outputs": [],
   "source": [
    "#定義特殊頁面\n",
    "@app.route('/special')\n",
    "def specialPage():\n",
    "   return render_template('classTemplate.html', title = \"SPECIAL\")"
   ]
  },
  {
   "cell_type": "code",
   "execution_count": 17,
   "id": "3b5d2ce3",
   "metadata": {},
   "outputs": [],
   "source": [
    "#定義其他頁面\n",
    "@app.route('/extra')\n",
    "def extraPage():\n",
    "   return render_template('classTemplate.html', title = \"EXTRA\")"
   ]
  },
  {
   "cell_type": "code",
   "execution_count": 18,
   "id": "3e5b78ff",
   "metadata": {},
   "outputs": [],
   "source": [
    "# 查詢姓名列表\n",
    "@app.route('/fetchNameList', methods=['GET']) \n",
    "def fetchNameList():\n",
    "    try:\n",
    "        # 使用 with 語句管理資料庫連線\n",
    "        with sqlite3.connect(DATABASE) as conn:\n",
    "            cursor = conn.cursor()\n",
    "            cursor.execute(\"SELECT name FROM nameList\")  # 假設表格名稱為 'nameList'，字段名稱為 'name'\n",
    "            names = [row[0] for row in cursor.fetchall()]\n",
    "        return jsonify(names)\n",
    "\n",
    "    except Exception as e:\n",
    "        return jsonify({'error': str(e)}), 500\n"
   ]
  },
  {
   "cell_type": "code",
   "execution_count": 19,
   "id": "4e247031",
   "metadata": {},
   "outputs": [],
   "source": [
    "# 新增姓名到資料庫\n",
    "@app.route('/addName', methods=['POST'])\n",
    "def addName():\n",
    "    try:\n",
    "        data = request.get_json()\n",
    "        new_name = data.get('name')\n",
    "        if not new_name:\n",
    "            return jsonify({'error': 'No name provided'}), 400\n",
    "        \n",
    "        conn = sqlite3.connect(DATABASE)\n",
    "        cursor = conn.cursor()\n",
    "        cursor.execute(\"INSERT INTO nameList (name) VALUES (?)\", (new_name,))\n",
    "        conn.commit()\n",
    "        conn.close()\n",
    "        return jsonify({'success': True}), 200\n",
    "    except Exception as e:\n",
    "        return jsonify({'error': str(e)}), 500"
   ]
  },
  {
   "cell_type": "code",
   "execution_count": 20,
   "id": "09947e62",
   "metadata": {},
   "outputs": [],
   "source": [
    "# 查詢指定人名的逐字稿\n",
    "@app.route('/fetchTranscripts', methods=['GET'])\n",
    "def fetchTranscripts():\n",
    "    person = request.args.get('person')  # 從請求中獲取人名參數\n",
    "    if not person:\n",
    "        return jsonify({'error': 'No person provided'}), 400\n",
    "\n",
    "    try:\n",
    "        conn = sqlite3.connect(DATABASE)\n",
    "        cursor = conn.cursor()\n",
    "        # 根據名稱查詢逐字稿\n",
    "        cursor.execute(\"SELECT content, timestamp FROM transcripts WHERE name = ? ORDER BY timestamp DESC\", (person,))\n",
    "        rows = cursor.fetchall()\n",
    "        transcripts = [{'content': row[0], 'timestamp': row[1]} for row in rows]\n",
    "        conn.close()\n",
    "        app.logger.info(f'Transcripts fetched for {person}: {transcripts}')\n",
    "\n",
    "        return jsonify(transcripts)\n",
    "\n",
    "    except Exception as e:\n",
    "        return jsonify({'error': str(e)}), 500"
   ]
  },
  {
   "cell_type": "code",
   "execution_count": 21,
   "id": "ea38da53",
   "metadata": {},
   "outputs": [],
   "source": [
    "# 新增指定人名的逐字稿\n",
    "@app.route('/uploadTranscript', methods=['POST'])\n",
    "def uploadTranscript():\n",
    "    data = request.get_json()\n",
    "    name = data.get('name')\n",
    "    content = data.get('content')\n",
    "    save_transcript_to_db(name, content)\n",
    "    return jsonify({'message': 'Transcript uploaded successfully'}), 200"
   ]
  },
  {
   "cell_type": "code",
   "execution_count": 22,
   "id": "5075119e",
   "metadata": {},
   "outputs": [],
   "source": [
    "# 編輯指定人名的逐字稿\n",
    "@app.route('/editTranscript', methods=['POST'])\n",
    "def editTranscript():\n",
    "    data = request.get_json()\n",
    "    timestamp = data.get('timestamp')\n",
    "    new_content = data.get('newContent')\n",
    "\n",
    "    if not timestamp or not new_content:\n",
    "        app.logger.error('Timestamp or new content is missing in the request')\n",
    "        return jsonify({'error': 'Timestamp or new content is missing'}), 400\n",
    "\n",
    "    try:\n",
    "        conn = sqlite3.connect(DATABASE)\n",
    "        cursor = conn.cursor()\n",
    "        cursor.execute(\"UPDATE transcripts SET content = ? WHERE timestamp = ?\", (new_content, timestamp))\n",
    "        conn.commit()\n",
    "        conn.close()\n",
    "        app.logger.info(f'Transcript edited at {timestamp}')\n",
    "        return jsonify({'message': 'Transcript edited successfully'}), 200\n",
    "    except Exception as e:\n",
    "        app.logger.error(f'Error editing transcript at {timestamp}: {e}')\n",
    "        return jsonify({'error': str(e)}), 500"
   ]
  },
  {
   "cell_type": "code",
   "execution_count": 23,
   "id": "505442b6",
   "metadata": {},
   "outputs": [],
   "source": [
    "# 刪除指定人名的逐字稿\n",
    "@app.route('/deleteTranscript', methods=['POST'])\n",
    "def deleteTranscript():\n",
    "    data = request.get_json()\n",
    "    timestamp = data.get('timestamp')\n",
    "\n",
    "    if not timestamp:\n",
    "        app.logger.error('Timestamp is missing in the request')\n",
    "        return jsonify({'error': 'Timestamp is missing'}), 400\n",
    "\n",
    "    try:\n",
    "        conn = sqlite3.connect(DATABASE)\n",
    "        cursor = conn.cursor()\n",
    "        cursor.execute(\"DELETE FROM transcripts WHERE timestamp = ?\", (timestamp,))\n",
    "        conn.commit()\n",
    "        conn.close()\n",
    "        app.logger.info(f'Transcript deleted at {timestamp}')\n",
    "        return jsonify({'message': 'Transcript deleted successfully'}), 200\n",
    "    except Exception as e:\n",
    "        app.logger.error(f'Error deleting transcript at {timestamp}: {e}')\n",
    "        return jsonify({'error': str(e)}), 500"
   ]
  },
  {
   "cell_type": "code",
   "execution_count": 24,
   "id": "f1e10a2e",
   "metadata": {},
   "outputs": [],
   "source": [
    "# 確保音訊格式正確\n",
    "def ensure_audio_format(input_file, output_file=None):\n",
    "    \"\"\"\n",
    "    將音訊檔檢查並轉換為符合指定格式的 WAV 檔案：\n",
    "    16kHz, 單聲道, 16位深度 (PCM 格式)。\n",
    "    \"\"\"\n",
    "    \n",
    "    try:\n",
    "        print(\"開始處理音訊格式轉換\")\n",
    "        \n",
    "        # 確認輸入檔是否存在\n",
    "        if not os.path.isfile(input_file):\n",
    "            raise FileNotFoundError(f\"找不到檔案: {input_file}\")\n",
    "        print(\"輸入檔存在\")\n",
    "        \n",
    "        # 檢查檔案副檔名是否支援\n",
    "        file_extension = os.path.splitext(input_file)[1][1:].lower()\n",
    "        print(f\"檔案副檔名: {file_extension}\")\n",
    "        if file_extension not in ALLOWED_EXTENSIONS:\n",
    "            raise ValueError(f\"不支援的音訊格式: {file_extension}.\")\n",
    "        print(\"音訊格式受支持\")\n",
    "        \n",
    "        # 自動生成輸出檔案名稱\n",
    "        if output_file is None:\n",
    "            output_file = os.path.splitext(input_file)[0] + '_processed.wav'\n",
    "        print(f\"輸出檔案路徑: {output_file}\")\n",
    "\n",
    "        # 設定 ffmpeg 的路徑\n",
    "        ffmpeg_path = os.path.join(app.root_path, 'extension', 'ffmpeg', 'bin', 'ffmpeg.exe')\n",
    "\n",
    "        # 確認 ffmpeg 可用\n",
    "        if not os.path.isfile(ffmpeg_path):\n",
    "            raise RuntimeError(f\"ffmpeg 無法找到，檢查路徑是否正確：{ffmpeg_path}\")\n",
    "        print(f\"ffmpeg 路徑: {ffmpeg_path}\")\n",
    "\n",
    "        # 構建轉換命令\n",
    "        command = [\n",
    "            ffmpeg_path,\n",
    "            '-i', input_file,\n",
    "            '-ar', '16000',        # 采樣率 16kHz\n",
    "            '-ac', '1',            # 單聲道\n",
    "            '-sample_fmt', 's16',  # 16位深度\n",
    "            output_file\n",
    "        ]\n",
    "        print(f\"執行命令：{' '.join(command)}\")\n",
    "        \n",
    "        # 執行轉換命令\n",
    "        result = subprocess.run(command, check=True, stdout=subprocess.PIPE, stderr=subprocess.PIPE)\n",
    "        print(\"ffmpeg 執行成功\")\n",
    "        print(result.stdout.decode())\n",
    "        # print(f\"音頻已成功轉換並保存：{output_file}\")\n",
    "        \n",
    "        return output_file\n",
    "    \n",
    "    except subprocess.CalledProcessError as e:\n",
    "        print(f\"ffmpeg 執行失敗：{e}\")\n",
    "        print(e.stderr.decode())\n",
    "        raise Exception(f\"處理失敗: {e.stderr.decode()}\")\n",
    "    except Exception as e:\n",
    "        print(f\"音訊格式處理失敗：{e}\")\n",
    "        raise Exception(f\"處理失敗: {e}\")\n",
    "    finally:\n",
    "        # 顯式釋放資源\n",
    "        gc.collect()"
   ]
  },
  {
   "cell_type": "code",
   "execution_count": 25,
   "id": "d9a91409",
   "metadata": {},
   "outputs": [],
   "source": [
    "# 語音轉文字模塊\n",
    "def transcribe_audio(file_path):\n",
    "    \"\"\"\n",
    "    使用語音轉文字模塊來處理音頻文件，將音頻文件轉換為文本。\n",
    "    \"\"\"\n",
    "\n",
    "    # 獲取金鑰檔案\n",
    "    current_dir = os.getcwd()\n",
    "    key_file_path = os.path.join(current_dir, 'key.txt')\n",
    "    \n",
    "    if not os.path.exists(key_file_path):\n",
    "        raise FileNotFoundError(f\"檔案 '{key_file_path}' 不存在，請檢查檔案路徑或內容！\")\n",
    "\n",
    "    # 繼續讀取金鑰\n",
    "    with open(key_file_path, 'r') as file:\n",
    "        api_key = file.read().strip()\n",
    "        if api_key == \"\" or None:\n",
    "            raise FileNotFoundError(f\"金鑰為空！\")\n",
    "\n",
    "    transcript = []\n",
    "    def on_processing_sentence(message):\n",
    "        print(f'hello: {message[\"asr_sentence\"]}')\n",
    "\n",
    "    def on_final_sentence(message):\n",
    "        transcript.append(message[\"asr_sentence\"])\n",
    "        #print(f'world: {message[\"asr_sentence\"]}')\n",
    "        \n",
    "    asr_client = StreamingClient(key=api_key)\n",
    "\n",
    "    # 開始語音轉文字處理\n",
    "    asr_client.start_streaming_wav(\n",
    "        pipeline='asr-zh-tw-std',\n",
    "        file=file_path,\n",
    "        #on_processing_sentence=on_processing_sentence,\n",
    "        on_final_sentence=on_final_sentence\n",
    "    )\n",
    "    \n",
    "    return transcript"
   ]
  },
  {
   "cell_type": "code",
   "execution_count": 26,
   "id": "451e5350-5d07-4181-87fa-eff6aed5d152",
   "metadata": {},
   "outputs": [],
   "source": [
    "def classify_contents(name, timestamp):\n",
    "    command = \"SELECT name, content FROM transcripts WHERE name = '{}' ORDER BY timestamp DESC LIMIT 1\".format(name)\n",
    "    name, result = GPT_classification(DATABASE_PATH=DATABASE, sql_command=command)\n",
    "    try:\n",
    "        conn = sqlite3.connect(DATABASE)\n",
    "        cursor = conn.cursor()\n",
    "        for category in result:\n",
    "            if len(result[category]) != 0:\n",
    "                for speaker in result[category][0]:\n",
    "                    cursor.execute(\n",
    "                        \"INSERT INTO GPT_ClassificationResults VALUES ('{}', '{}', '{}：{}', '{}')\".format(\n",
    "                            name, category, speaker, result[category][0][speaker], timestamp))\n",
    "                    conn.commit()\n",
    "        conn.close()\n",
    "    except Exception as e: app.logger.error(f'Error: {e}')"
   ]
  },
  {
   "cell_type": "code",
   "execution_count": 27,
   "id": "47eb73bf",
   "metadata": {},
   "outputs": [],
   "source": [
    "# 將逐字稿保存到資料庫\n",
    "def save_transcript_to_db(user, content):\n",
    "    \"\"\"\n",
    "    將逐字稿保存到資料庫中。\n",
    "    \"\"\"\n",
    "    try:\n",
    "        conn = sqlite3.connect(DATABASE)\n",
    "        cursor = conn.cursor()\n",
    "        timestamp = datetime.now().strftime('%Y-%m-%d %H:%M:%S')\n",
    "        if not user or not content:\n",
    "            app.logger.error('Name or content is missing in the request')\n",
    "            return jsonify({'error': 'Name or content is missing'}), 400\n",
    "        \n",
    "        cursor.execute(\"INSERT INTO transcripts (name, content, timestamp) VALUES (?, ?, ?)\", (user, content, timestamp))\n",
    "        \n",
    "        conn.commit()\n",
    "        conn.close()\n",
    "        print(f\"逐字稿已成功儲存到資料庫，使用者：{user}\")\n",
    "        app.logger.info(f'Transcript uploaded for {user} at {timestamp}')\n",
    "        classify_contents(name=user, timestamp=timestamp)\n",
    "    except Exception as e:\n",
    "        app.logger.error(f'Error uploading transcript for {user}: {e}')\n",
    "        return jsonify({'error': str(e)}), 500"
   ]
  },
  {
   "cell_type": "code",
   "execution_count": 28,
   "id": "68088f16",
   "metadata": {},
   "outputs": [],
   "source": [
    "# 上傳錄音檔\n",
    "@app.route('/uploadRecord', methods=['POST'])\n",
    "def upload_record():\n",
    "    print(\"接收到上傳請求\")\n",
    "    converted_file_path = None  # 初始化變數\n",
    "\n",
    "    if 'file' not in request.files:\n",
    "        print(\"沒有檔案被上傳\")\n",
    "        return jsonify({'success': False, 'message': '沒有檔案被上傳'}), 400\n",
    "    \n",
    "    file = request.files['file']\n",
    "    print(f\"接收到的文件名稱：{file.filename}\")\n",
    "\n",
    "    if file.filename == '':\n",
    "        print(\"文件名稱為空\")\n",
    "        return jsonify({'error': 'No selected file'}), 400\n",
    "\n",
    "    # 檢查文件是否符合允許的類型\n",
    "    if not allowed_file(file.filename):\n",
    "        print(f\"不允許的文件類型：{file.filename}\")\n",
    "        return jsonify({'error': 'File type not allowed'}), 400\n",
    "\n",
    "    # 生成唯一文件名\n",
    "    temp_file_path = os.path.join(UPLOAD_FOLDER, f\"temp_{uuid.uuid4().hex}_{file.filename}\")\n",
    "\n",
    "    try:\n",
    "        # 先儲存上傳的原始檔案到磁碟\n",
    "        with open(temp_file_path, 'wb') as f:\n",
    "            file.save(f)\n",
    "        print(f\"臨時文件已成功保存至：{temp_file_path}\")\n",
    "\n",
    "        # 轉換音頻格式並重新儲存\n",
    "        converted_file_path = ensure_audio_format(temp_file_path)\n",
    "        print(f\"轉換文件已成功保存至：{converted_file_path}\")\n",
    "\n",
    "        print(\"正在轉換逐字稿......\")\n",
    "        contents = transcribe_audio(converted_file_path)\n",
    "        print(\"轉換完成\")\n",
    "        print(contents)\n",
    "  \n",
    "        user = request.form.get('user')\n",
    "        \n",
    "        # 使用 join 生成合併後的內容\n",
    "        transcript = \"\\n\".join(contents)\n",
    "        \n",
    "        print(transcript)    \n",
    "        save_transcript_to_db(user, transcript)\n",
    "\n",
    "    except Exception as e:\n",
    "        print(f\"音頻轉換失敗：{e}\")\n",
    "        return jsonify({'error': 'Audio conversion failed'}), 500\n",
    "    \n",
    "    finally:\n",
    "        # 刪除原始文件\n",
    "        if os.path.exists(temp_file_path):\n",
    "            os.remove(temp_file_path)\n",
    "        print(f\"原始臨時文件已刪除：{temp_file_path}\")\n",
    "\n",
    "        # 刪除轉換文件（如果存在）\n",
    "        if converted_file_path and os.path.exists(converted_file_path):\n",
    "            print(f\"轉換文件已刪除：{converted_file_path}\")\n",
    "            os.remove(converted_file_path)\n",
    "\n",
    "    return jsonify({'message': 'File uploaded and converted successfully', 'converted_file_path': converted_file_path}), 200"
   ]
  },
  {
   "cell_type": "code",
   "execution_count": 29,
   "id": "6c054858",
   "metadata": {
    "tags": []
   },
   "outputs": [
    {
     "name": "stdout",
     "output_type": "stream",
     "text": [
      " * Serving Flask app '__main__'\n",
      " * Debug mode: off\n"
     ]
    },
    {
     "name": "stderr",
     "output_type": "stream",
     "text": [
      "WARNING: This is a development server. Do not use it in a production deployment. Use a production WSGI server instead.\n",
      " * Running on all addresses (0.0.0.0)\n",
      " * Running on http://127.0.0.1:5000\n",
      " * Running on http://172.17.0.2:5000\n",
      "Press CTRL+C to quit\n",
      "172.17.0.1 - - [29/Nov/2024 09:53:47] \"GET / HTTP/1.1\" 200 -\n",
      "172.17.0.1 - - [29/Nov/2024 09:53:47] \"GET /static/css/style.css HTTP/1.1\" 304 -\n",
      "172.17.0.1 - - [29/Nov/2024 09:53:47] \"GET /static/js/index.js HTTP/1.1\" 304 -\n",
      "172.17.0.1 - - [29/Nov/2024 09:53:47] \"GET /static/images/profile/01.png HTTP/1.1\" 304 -\n",
      "172.17.0.1 - - [29/Nov/2024 09:53:47] \"GET /fetchTranscripts?person=張偉 HTTP/1.1\" 200 -\n",
      "172.17.0.1 - - [29/Nov/2024 09:53:48] \"GET /fetchNameList HTTP/1.1\" 200 -\n",
      "172.17.0.1 - - [29/Nov/2024 09:53:49] \"GET /fetchTranscripts?person=測試機器人 HTTP/1.1\" 200 -\n",
      "172.17.0.1 - - [29/Nov/2024 09:53:52] \"POST /deleteTranscript HTTP/1.1\" 200 -\n",
      "172.17.0.1 - - [29/Nov/2024 09:53:53] \"GET /fetchTranscripts?person=測試機器人 HTTP/1.1\" 200 -\n"
     ]
    },
    {
     "name": "stdout",
     "output_type": "stream",
     "text": [
      "逐字稿已成功儲存到資料庫，使用者：測試機器人\n"
     ]
    },
    {
     "name": "stderr",
     "output_type": "stream",
     "text": [
      "172.17.0.1 - - [29/Nov/2024 09:54:19] \"POST /uploadTranscript?name=測試機器人 HTTP/1.1\" 200 -\n"
     ]
    },
    {
     "name": "stdout",
     "output_type": "stream",
     "text": [
      "GPT classification successful\n"
     ]
    },
    {
     "name": "stderr",
     "output_type": "stream",
     "text": [
      "172.17.0.1 - - [29/Nov/2024 09:54:21] \"GET /fetchTranscripts?person=測試機器人 HTTP/1.1\" 200 -\n"
     ]
    }
   ],
   "source": [
    "if __name__ == '__main__':\n",
    "    app.run(host='0.0.0.0', port=5000)"
   ]
  }
 ],
 "metadata": {
  "kernelspec": {
   "display_name": "Python 3 (ipykernel)",
   "language": "python",
   "name": "python3"
  },
  "language_info": {
   "codemirror_mode": {
    "name": "ipython",
    "version": 3
   },
   "file_extension": ".py",
   "mimetype": "text/x-python",
   "name": "python",
   "nbconvert_exporter": "python",
   "pygments_lexer": "ipython3",
   "version": "3.11.6"
  }
 },
 "nbformat": 4,
 "nbformat_minor": 5
}
